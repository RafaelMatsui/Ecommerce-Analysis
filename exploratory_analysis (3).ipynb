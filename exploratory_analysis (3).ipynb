{
  "metadata": {
    "kernelspec": {
      "language": "python",
      "display_name": "Python 3",
      "name": "python3"
    },
    "language_info": {
      "name": "python",
      "version": "3.7.12",
      "mimetype": "text/x-python",
      "codemirror_mode": {
        "name": "ipython",
        "version": 3
      },
      "pygments_lexer": "ipython3",
      "nbconvert_exporter": "python",
      "file_extension": ".py"
    },
    "colab": {
      "name": "exploratory_analysis.ipynb",
      "provenance": [],
      "collapsed_sections": [
        "kFGOY1t3YU24"
      ]
    }
  },
  "nbformat_minor": 0,
  "nbformat": 4,
  "cells": [
    {
      "cell_type": "markdown",
      "source": [
        "# Olist Data Preparation\n",
        "*By Rafael LeRoy*"
      ],
      "metadata": {
        "id": "toi1F0YAYU18"
      }
    },
    {
      "cell_type": "markdown",
      "source": [
        "## Introduction\n",
        "\n",
        "Our goal for this task is to clean and prepare the data for usage in a dashboard.\n",
        "\n",
        "Our Dashboard will consist of three views:\n",
        "\n",
        "**Orders:** \n",
        "* Which customers ordered the most\n",
        "* Which geographical states did most orders come from\n",
        "* How many orders were there per month\n",
        "\n",
        "**Sellers:**\n",
        "* Which sellers had the highest sales revenue\n",
        "* Which geographical states did most sellers come from\n",
        "* How many sellers were there per month\n",
        "\n",
        "**Products:**\n",
        "* Which product categories sold the most\n",
        "* Which individual products sold the most\n",
        "\n",
        "We will prepare the data in a way that will most suitably accommodate these views."
      ],
      "metadata": {
        "id": "516pMDAQYU2B"
      }
    },
    {
      "cell_type": "markdown",
      "source": [
        "## Getting an overview of the Data\n",
        "\n",
        "Before we begin any preparation, it is essential that we get an overview of the datasets."
      ],
      "metadata": {
        "id": "Ctq7cryyYU2E"
      }
    },
    {
      "cell_type": "code",
      "source": [
        "import pandas as pd\n",
        "import numpy as np\n",
        "import seaborn as sns\n",
        "from bs4 import BeautifulSoup\n",
        "import requests\n",
        "import matplotlib.pyplot as plt\n",
        "from googletrans import Translator\n",
        "\n",
        "pd.set_option('display.max_columns', 500)\n",
        "plt.rcParams['axes.grid'] = True\n",
        "\n",
        "customers = pd.read_csv('/content/olist_customers_dataset.csv')\n",
        "sellers = pd.read_csv('/content/olist_sellers_dataset.csv')\n",
        "products = pd.read_csv('/content/olist_products_dataset.csv')\n",
        "order_items = pd.read_csv('/content/olist_order_items_dataset.csv')\n",
        "orders = pd.read_csv('/content/olist_orders_dataset.csv')\n",
        "order_payments = pd.read_csv('/content/olist_order_payments_dataset.csv')\n",
        "reviews = pd.read_csv('/content/olist_order_reviews_dataset.csv')"
      ],
      "metadata": {
        "_kg_hide-input": false,
        "_kg_hide-output": false,
        "execution": {
          "iopub.status.busy": "2022-06-04T18:47:04.829077Z",
          "iopub.execute_input": "2022-06-04T18:47:04.829854Z",
          "iopub.status.idle": "2022-06-04T18:47:09.596868Z",
          "shell.execute_reply.started": "2022-06-04T18:47:04.829745Z",
          "shell.execute_reply": "2022-06-04T18:47:09.595645Z"
        },
        "trusted": true,
        "id": "ORmnWDQdYU2G"
      },
      "execution_count": 2,
      "outputs": []
    },
    {
      "cell_type": "code",
      "source": [
        "# Lets summarize the null values and duplicate values in our datasets\n",
        "\n",
        "def series_describer(df):\n",
        "    null_dic = df.isna().sum().to_dict()\n",
        "    null_columns = ', '.join([i for i in null_dic if null_dic[i] != 0])\n",
        "    null_percentage = len(df[df.isnull().any(axis = 1)]) / len(df) * 100\n",
        "    return [len(df.columns), len(df), df.duplicated().sum(), len(df[df.isnull().any(axis = 1)]), null_percentage, null_columns]\n",
        "\n",
        "df = pd.DataFrame([series_describer(i) for i in [customers, sellers, products, order_items, orders, order_payments, reviews]],\n",
        "                  columns = ['Number Of columns', 'Number of Rows', 'Duplicated Rows', 'Number of Nulls','Null_percentage','Null Columns'],\n",
        "                  index = ['customers', 'sellers', 'products', 'order_items','orders', 'order_payments', 'reviews'])\n",
        "\n",
        "df.style.background_gradient()"
      ],
      "metadata": {
        "execution": {
          "iopub.status.busy": "2022-05-30T21:18:20.713169Z",
          "iopub.execute_input": "2022-05-30T21:18:20.71427Z",
          "iopub.status.idle": "2022-05-30T21:18:21.682136Z",
          "shell.execute_reply.started": "2022-05-30T21:18:20.714228Z",
          "shell.execute_reply": "2022-05-30T21:18:21.681223Z"
        },
        "trusted": true,
        "colab": {
          "base_uri": "https://localhost:8080/",
          "height": 442
        },
        "id": "Ej3rZUWrYU2I",
        "outputId": "88bb7a49-3794-4dd0-8493-5c3dcbc519bd"
      },
      "execution_count": 3,
      "outputs": [
        {
          "output_type": "execute_result",
          "data": {
            "text/plain": [
              "<pandas.io.formats.style.Styler at 0x7f846301d5d0>"
            ],
            "text/html": [
              "<style type=\"text/css\">\n",
              "#T_d62d7_row0_col0, #T_d62d7_row5_col0 {\n",
              "  background-color: #dbdaeb;\n",
              "  color: #000000;\n",
              "}\n",
              "#T_d62d7_row0_col1, #T_d62d7_row4_col1 {\n",
              "  background-color: #04588a;\n",
              "  color: #f1f1f1;\n",
              "}\n",
              "#T_d62d7_row0_col2, #T_d62d7_row0_col3, #T_d62d7_row0_col4, #T_d62d7_row1_col0, #T_d62d7_row1_col1, #T_d62d7_row1_col2, #T_d62d7_row1_col3, #T_d62d7_row1_col4, #T_d62d7_row2_col2, #T_d62d7_row3_col2, #T_d62d7_row3_col3, #T_d62d7_row3_col4, #T_d62d7_row4_col2, #T_d62d7_row5_col2, #T_d62d7_row5_col3, #T_d62d7_row5_col4, #T_d62d7_row6_col2 {\n",
              "  background-color: #fff7fb;\n",
              "  color: #000000;\n",
              "}\n",
              "#T_d62d7_row2_col0, #T_d62d7_row3_col1, #T_d62d7_row6_col3, #T_d62d7_row6_col4 {\n",
              "  background-color: #023858;\n",
              "  color: #f1f1f1;\n",
              "}\n",
              "#T_d62d7_row2_col1 {\n",
              "  background-color: #c9cee4;\n",
              "  color: #000000;\n",
              "}\n",
              "#T_d62d7_row2_col3 {\n",
              "  background-color: #fef6fb;\n",
              "  color: #000000;\n",
              "}\n",
              "#T_d62d7_row2_col4 {\n",
              "  background-color: #fcf4fa;\n",
              "  color: #000000;\n",
              "}\n",
              "#T_d62d7_row3_col0, #T_d62d7_row6_col0 {\n",
              "  background-color: #4295c3;\n",
              "  color: #f1f1f1;\n",
              "}\n",
              "#T_d62d7_row4_col0 {\n",
              "  background-color: #0567a2;\n",
              "  color: #f1f1f1;\n",
              "}\n",
              "#T_d62d7_row4_col3, #T_d62d7_row4_col4 {\n",
              "  background-color: #faf3f9;\n",
              "  color: #000000;\n",
              "}\n",
              "#T_d62d7_row5_col1 {\n",
              "  background-color: #034d79;\n",
              "  color: #f1f1f1;\n",
              "}\n",
              "#T_d62d7_row6_col1 {\n",
              "  background-color: #04598c;\n",
              "  color: #f1f1f1;\n",
              "}\n",
              "</style>\n",
              "<table id=\"T_d62d7_\" class=\"dataframe\">\n",
              "  <thead>\n",
              "    <tr>\n",
              "      <th class=\"blank level0\" >&nbsp;</th>\n",
              "      <th class=\"col_heading level0 col0\" >Number Of columns</th>\n",
              "      <th class=\"col_heading level0 col1\" >Number of Rows</th>\n",
              "      <th class=\"col_heading level0 col2\" >Duplicated Rows</th>\n",
              "      <th class=\"col_heading level0 col3\" >Number of Nulls</th>\n",
              "      <th class=\"col_heading level0 col4\" >Null_percentage</th>\n",
              "      <th class=\"col_heading level0 col5\" >Null Columns</th>\n",
              "    </tr>\n",
              "  </thead>\n",
              "  <tbody>\n",
              "    <tr>\n",
              "      <th id=\"T_d62d7_level0_row0\" class=\"row_heading level0 row0\" >customers</th>\n",
              "      <td id=\"T_d62d7_row0_col0\" class=\"data row0 col0\" >5</td>\n",
              "      <td id=\"T_d62d7_row0_col1\" class=\"data row0 col1\" >99441</td>\n",
              "      <td id=\"T_d62d7_row0_col2\" class=\"data row0 col2\" >0</td>\n",
              "      <td id=\"T_d62d7_row0_col3\" class=\"data row0 col3\" >0</td>\n",
              "      <td id=\"T_d62d7_row0_col4\" class=\"data row0 col4\" >0.000000</td>\n",
              "      <td id=\"T_d62d7_row0_col5\" class=\"data row0 col5\" ></td>\n",
              "    </tr>\n",
              "    <tr>\n",
              "      <th id=\"T_d62d7_level0_row1\" class=\"row_heading level0 row1\" >sellers</th>\n",
              "      <td id=\"T_d62d7_row1_col0\" class=\"data row1 col0\" >4</td>\n",
              "      <td id=\"T_d62d7_row1_col1\" class=\"data row1 col1\" >3095</td>\n",
              "      <td id=\"T_d62d7_row1_col2\" class=\"data row1 col2\" >0</td>\n",
              "      <td id=\"T_d62d7_row1_col3\" class=\"data row1 col3\" >0</td>\n",
              "      <td id=\"T_d62d7_row1_col4\" class=\"data row1 col4\" >0.000000</td>\n",
              "      <td id=\"T_d62d7_row1_col5\" class=\"data row1 col5\" ></td>\n",
              "    </tr>\n",
              "    <tr>\n",
              "      <th id=\"T_d62d7_level0_row2\" class=\"row_heading level0 row2\" >products</th>\n",
              "      <td id=\"T_d62d7_row2_col0\" class=\"data row2 col0\" >9</td>\n",
              "      <td id=\"T_d62d7_row2_col1\" class=\"data row2 col1\" >32951</td>\n",
              "      <td id=\"T_d62d7_row2_col2\" class=\"data row2 col2\" >0</td>\n",
              "      <td id=\"T_d62d7_row2_col3\" class=\"data row2 col3\" >611</td>\n",
              "      <td id=\"T_d62d7_row2_col4\" class=\"data row2 col4\" >1.854268</td>\n",
              "      <td id=\"T_d62d7_row2_col5\" class=\"data row2 col5\" >product_category_name, product_name_lenght, product_description_lenght, product_photos_qty, product_weight_g, product_length_cm, product_height_cm, product_width_cm</td>\n",
              "    </tr>\n",
              "    <tr>\n",
              "      <th id=\"T_d62d7_level0_row3\" class=\"row_heading level0 row3\" >order_items</th>\n",
              "      <td id=\"T_d62d7_row3_col0\" class=\"data row3 col0\" >7</td>\n",
              "      <td id=\"T_d62d7_row3_col1\" class=\"data row3 col1\" >112650</td>\n",
              "      <td id=\"T_d62d7_row3_col2\" class=\"data row3 col2\" >0</td>\n",
              "      <td id=\"T_d62d7_row3_col3\" class=\"data row3 col3\" >0</td>\n",
              "      <td id=\"T_d62d7_row3_col4\" class=\"data row3 col4\" >0.000000</td>\n",
              "      <td id=\"T_d62d7_row3_col5\" class=\"data row3 col5\" ></td>\n",
              "    </tr>\n",
              "    <tr>\n",
              "      <th id=\"T_d62d7_level0_row4\" class=\"row_heading level0 row4\" >orders</th>\n",
              "      <td id=\"T_d62d7_row4_col0\" class=\"data row4 col0\" >8</td>\n",
              "      <td id=\"T_d62d7_row4_col1\" class=\"data row4 col1\" >99441</td>\n",
              "      <td id=\"T_d62d7_row4_col2\" class=\"data row4 col2\" >0</td>\n",
              "      <td id=\"T_d62d7_row4_col3\" class=\"data row4 col3\" >2980</td>\n",
              "      <td id=\"T_d62d7_row4_col4\" class=\"data row4 col4\" >2.996752</td>\n",
              "      <td id=\"T_d62d7_row4_col5\" class=\"data row4 col5\" >order_approved_at, order_delivered_carrier_date, order_delivered_customer_date</td>\n",
              "    </tr>\n",
              "    <tr>\n",
              "      <th id=\"T_d62d7_level0_row5\" class=\"row_heading level0 row5\" >order_payments</th>\n",
              "      <td id=\"T_d62d7_row5_col0\" class=\"data row5 col0\" >5</td>\n",
              "      <td id=\"T_d62d7_row5_col1\" class=\"data row5 col1\" >103886</td>\n",
              "      <td id=\"T_d62d7_row5_col2\" class=\"data row5 col2\" >0</td>\n",
              "      <td id=\"T_d62d7_row5_col3\" class=\"data row5 col3\" >0</td>\n",
              "      <td id=\"T_d62d7_row5_col4\" class=\"data row5 col4\" >0.000000</td>\n",
              "      <td id=\"T_d62d7_row5_col5\" class=\"data row5 col5\" ></td>\n",
              "    </tr>\n",
              "    <tr>\n",
              "      <th id=\"T_d62d7_level0_row6\" class=\"row_heading level0 row6\" >reviews</th>\n",
              "      <td id=\"T_d62d7_row6_col0\" class=\"data row6 col0\" >7</td>\n",
              "      <td id=\"T_d62d7_row6_col1\" class=\"data row6 col1\" >99224</td>\n",
              "      <td id=\"T_d62d7_row6_col2\" class=\"data row6 col2\" >0</td>\n",
              "      <td id=\"T_d62d7_row6_col3\" class=\"data row6 col3\" >89385</td>\n",
              "      <td id=\"T_d62d7_row6_col4\" class=\"data row6 col4\" >90.084052</td>\n",
              "      <td id=\"T_d62d7_row6_col5\" class=\"data row6 col5\" >review_comment_title, review_comment_message</td>\n",
              "    </tr>\n",
              "  </tbody>\n",
              "</table>\n"
            ]
          },
          "metadata": {},
          "execution_count": 3
        }
      ]
    },
    {
      "cell_type": "markdown",
      "source": [
        "The table above shows us the number of rows with at least one null value. Other than the reviews dataset, which we will deal with later, this data seems to have very few null values meaning the data can be used to create an accurate analysis."
      ],
      "metadata": {
        "id": "tM7fv_YGYU2L"
      }
    },
    {
      "cell_type": "markdown",
      "source": [
        "## Preparing the products dataset"
      ],
      "metadata": {
        "id": "YHpQ2aXNYU2U"
      }
    },
    {
      "cell_type": "code",
      "source": [
        "# Lets view the Null values in this dataset\n",
        "products.isna().sum()"
      ],
      "metadata": {
        "execution": {
          "iopub.status.busy": "2022-05-30T21:18:22.908561Z",
          "iopub.execute_input": "2022-05-30T21:18:22.909211Z",
          "iopub.status.idle": "2022-05-30T21:18:22.923889Z",
          "shell.execute_reply.started": "2022-05-30T21:18:22.909174Z",
          "shell.execute_reply": "2022-05-30T21:18:22.922505Z"
        },
        "trusted": true,
        "colab": {
          "base_uri": "https://localhost:8080/"
        },
        "id": "semnKe7NYU2W",
        "outputId": "8c920f0b-e8cf-41dd-c179-ef1a71153d01"
      },
      "execution_count": 4,
      "outputs": [
        {
          "output_type": "execute_result",
          "data": {
            "text/plain": [
              "product_id                      0\n",
              "product_category_name         610\n",
              "product_name_lenght           610\n",
              "product_description_lenght    610\n",
              "product_photos_qty            610\n",
              "product_weight_g                2\n",
              "product_length_cm               2\n",
              "product_height_cm               2\n",
              "product_width_cm                2\n",
              "dtype: int64"
            ]
          },
          "metadata": {},
          "execution_count": 4
        }
      ]
    },
    {
      "cell_type": "markdown",
      "source": [
        "From the cell above we can see the `product_name_lenght` and `product_description_lenght` are misspelt so we will correct them."
      ],
      "metadata": {
        "id": "jPGLPmCCYU2Y"
      }
    },
    {
      "cell_type": "code",
      "source": [
        "products.rename(columns = {'product_name_lenght': 'product_name_length',\n",
        "                           'product_description_lenght': 'product_description_length'}, inplace = True)"
      ],
      "metadata": {
        "execution": {
          "iopub.status.busy": "2022-05-30T21:18:23.756827Z",
          "iopub.execute_input": "2022-05-30T21:18:23.757467Z",
          "iopub.status.idle": "2022-05-30T21:18:23.763356Z",
          "shell.execute_reply.started": "2022-05-30T21:18:23.757418Z",
          "shell.execute_reply": "2022-05-30T21:18:23.762424Z"
        },
        "trusted": true,
        "id": "xBORxJb7YU2Z"
      },
      "execution_count": 5,
      "outputs": []
    },
    {
      "cell_type": "markdown",
      "source": [
        "We can also see the number of null values for every column in our dataset. The last four columns contain quantitative data, so the null values can be imputed with either the median or the mean.\n",
        "\n",
        "Let’s explore the best option for imputation."
      ],
      "metadata": {
        "id": "GYcDzfiWYU2a"
      }
    },
    {
      "cell_type": "code",
      "source": [
        "products_to_plot = products[['product_weight_g', 'product_length_cm', 'product_height_cm', 'product_width_cm']]\n",
        "products_to_plot.plot(subplots=True, layout=(4,4), kind='box', figsize=(20,20), patch_artist = True)\n",
        "plt.grid()\n",
        "plt.subplots_adjust(wspace=0.5)\n",
        "plt.show();"
      ],
      "metadata": {
        "execution": {
          "iopub.status.busy": "2022-05-30T21:18:24.610574Z",
          "iopub.execute_input": "2022-05-30T21:18:24.611024Z",
          "iopub.status.idle": "2022-05-30T21:18:25.362099Z",
          "shell.execute_reply.started": "2022-05-30T21:18:24.610991Z",
          "shell.execute_reply": "2022-05-30T21:18:25.360887Z"
        },
        "trusted": true,
        "colab": {
          "base_uri": "https://localhost:8080/",
          "height": 214
        },
        "id": "hAPjS5L8YU2a",
        "outputId": "01baaa30-f289-43c7-83ca-0d3dbe6fd947"
      },
      "execution_count": 6,
      "outputs": [
        {
          "output_type": "display_data",
          "data": {
            "text/plain": [
              "<Figure size 1440x1440 with 16 Axes>"
            ],
            "image/png": "[encoded data removed]"
          },
          "metadata": {
            "needs_background": "light"
          }
        }
      ]
    },
    {
      "cell_type": "markdown",
      "source": [
        "The boxplots above show that all four columns have many outliers creating a rightward skew. As we don’t want these outliers to be represented within our average, the best option would be to impute the median."
      ],
      "metadata": {
        "id": "VLH6z5fUYU2b"
      }
    },
    {
      "cell_type": "code",
      "source": [
        "cols = ['product_weight_g', 'product_length_cm', 'product_height_cm', 'product_width_cm']\n",
        "\n",
        "products[cols] = products[cols].fillna(products[cols].median())\n",
        "\n",
        "products.isna().sum()"
      ],
      "metadata": {
        "execution": {
          "iopub.status.busy": "2022-05-30T21:18:25.782662Z",
          "iopub.execute_input": "2022-05-30T21:18:25.783561Z",
          "iopub.status.idle": "2022-05-30T21:18:25.804556Z",
          "shell.execute_reply.started": "2022-05-30T21:18:25.783516Z",
          "shell.execute_reply": "2022-05-30T21:18:25.803581Z"
        },
        "trusted": true,
        "colab": {
          "base_uri": "https://localhost:8080/"
        },
        "id": "Xhm4u089YU2c",
        "outputId": "2a71f6fe-c0de-4b85-b7cd-8da4b2cc8b96"
      },
      "execution_count": 7,
      "outputs": [
        {
          "output_type": "execute_result",
          "data": {
            "text/plain": [
              "product_id                      0\n",
              "product_category_name         610\n",
              "product_name_length           610\n",
              "product_description_length    610\n",
              "product_photos_qty            610\n",
              "product_weight_g                0\n",
              "product_length_cm               0\n",
              "product_height_cm               0\n",
              "product_width_cm                0\n",
              "dtype: int64"
            ]
          },
          "metadata": {},
          "execution_count": 7
        }
      ]
    },
    {
      "cell_type": "markdown",
      "source": [
        "We now have to move on to the columns with the nominal data. This is where things get a bit tricky. As the data is qualitative, we can't impute the mean or median, and we would have to use the mode. One of the main objectives of the task assigned to us is to analyse the performance of the different products. This means that the accuracy of the this dataset is critical for this analysis. For this reason, I will drop these rows instead of imputing the mode."
      ],
      "metadata": {
        "id": "pQHnQmRgYU2d"
      }
    },
    {
      "cell_type": "code",
      "source": [
        "products.dropna(inplace = True)\n",
        "products.isna().sum()"
      ],
      "metadata": {
        "execution": {
          "iopub.status.busy": "2022-05-30T21:18:26.954022Z",
          "iopub.execute_input": "2022-05-30T21:18:26.954426Z",
          "iopub.status.idle": "2022-05-30T21:18:26.979783Z",
          "shell.execute_reply.started": "2022-05-30T21:18:26.954394Z",
          "shell.execute_reply": "2022-05-30T21:18:26.978807Z"
        },
        "trusted": true,
        "colab": {
          "base_uri": "https://localhost:8080/"
        },
        "id": "yiAP1qCiYU2d",
        "outputId": "07022a70-6cde-4f9c-de31-17e24854c92a"
      },
      "execution_count": 8,
      "outputs": [
        {
          "output_type": "execute_result",
          "data": {
            "text/plain": [
              "product_id                    0\n",
              "product_category_name         0\n",
              "product_name_length           0\n",
              "product_description_length    0\n",
              "product_photos_qty            0\n",
              "product_weight_g              0\n",
              "product_length_cm             0\n",
              "product_height_cm             0\n",
              "product_width_cm              0\n",
              "dtype: int64"
            ]
          },
          "metadata": {},
          "execution_count": 8
        }
      ]
    },
    {
      "cell_type": "markdown",
      "source": [
        "**Now that the null values have been dealt with, we can move on to feature engineering.**"
      ],
      "metadata": {
        "id": "vLB5EzVBYU2e"
      }
    },
    {
      "cell_type": "code",
      "source": [
        "#Lets first take a look at the unique values for every column.\n",
        "{k: products[k].unique() for k in products.columns}"
      ],
      "metadata": {
        "execution": {
          "iopub.status.busy": "2022-05-30T21:18:28.842109Z",
          "iopub.execute_input": "2022-05-30T21:18:28.842475Z",
          "iopub.status.idle": "2022-05-30T21:18:28.864839Z",
          "shell.execute_reply.started": "2022-05-30T21:18:28.842446Z",
          "shell.execute_reply": "2022-05-30T21:18:28.863936Z"
        },
        "trusted": true,
        "colab": {
          "base_uri": "https://localhost:8080/"
        },
        "id": "uVZTZZAYYU2e",
        "outputId": "7a0035a4-bb3a-4529-c0ba-973194ca54a5"
      },
      "execution_count": 9,
      "outputs": [
        {
          "output_type": "execute_result",
          "data": {
            "text/plain": [
              "{'product_category_name': array(['perfumaria', 'artes', 'esporte_lazer', 'bebes',\n",
              "        'utilidades_domesticas', 'instrumentos_musicais', 'cool_stuff',\n",
              "        'moveis_decoracao', 'eletrodomesticos', 'brinquedos',\n",
              "        'cama_mesa_banho', 'construcao_ferramentas_seguranca',\n",
              "        'informatica_acessorios', 'beleza_saude', 'malas_acessorios',\n",
              "        'ferramentas_jardim', 'moveis_escritorio', 'automotivo',\n",
              "        'eletronicos', 'fashion_calcados', 'telefonia', 'papelaria',\n",
              "        'fashion_bolsas_e_acessorios', 'pcs', 'casa_construcao',\n",
              "        'relogios_presentes', 'construcao_ferramentas_construcao',\n",
              "        'pet_shop', 'eletroportateis', 'agro_industria_e_comercio',\n",
              "        'moveis_sala', 'sinalizacao_e_seguranca', 'climatizacao',\n",
              "        'consoles_games', 'livros_interesse_geral',\n",
              "        'construcao_ferramentas_ferramentas',\n",
              "        'fashion_underwear_e_moda_praia', 'fashion_roupa_masculina',\n",
              "        'moveis_cozinha_area_de_servico_jantar_e_jardim',\n",
              "        'industria_comercio_e_negocios', 'telefonia_fixa',\n",
              "        'construcao_ferramentas_iluminacao', 'livros_tecnicos',\n",
              "        'eletrodomesticos_2', 'artigos_de_festas', 'bebidas',\n",
              "        'market_place', 'la_cuisine', 'construcao_ferramentas_jardim',\n",
              "        'fashion_roupa_feminina', 'casa_conforto', 'audio',\n",
              "        'alimentos_bebidas', 'musica', 'alimentos',\n",
              "        'tablets_impressao_imagem', 'livros_importados',\n",
              "        'portateis_casa_forno_e_cafe', 'fashion_esporte',\n",
              "        'artigos_de_natal', 'fashion_roupa_infanto_juvenil',\n",
              "        'dvds_blu_ray', 'artes_e_artesanato', 'pc_gamer', 'moveis_quarto',\n",
              "        'cine_foto', 'fraldas_higiene', 'flores', 'casa_conforto_2',\n",
              "        'portateis_cozinha_e_preparadores_de_alimentos',\n",
              "        'seguros_e_servicos', 'moveis_colchao_e_estofado',\n",
              "        'cds_dvds_musicais'], dtype=object),\n",
              " 'product_description_length': array([ 287.,  276.,  250., ..., 2836., 3364., 2207.]),\n",
              " 'product_height_cm': array([ 10.,  18.,   9.,   4.,  17.,   5.,  24.,   8.,  13.,  19.,   7.,\n",
              "         11.,   2.,  15.,  25.,  23.,  51.,  30.,   3.,  12.,  20.,  40.,\n",
              "         32.,  16.,  28.,  14.,  50.,  21.,  66.,  22.,   6.,  26.,  70.,\n",
              "         60.,  63.,  44.,  36.,  34.,  81.,  35.,  88.,  33.,  61.,  27.,\n",
              "         45., 102.,  43.,  48.,  55.,  41.,  29.,  31.,  37.,  65., 103.,\n",
              "         52.,  53.,  69.,  82., 100.,  49.,  74.,  54.,  57.,  42.,  93.,\n",
              "         39.,  38.,  47.,  62., 105.,  64.,  78.,  72.,  90.,  46.,  77.,\n",
              "         96.,  73.,  67.,  58., 104.,  71.,  79.,  75.,  85.,  68.,  56.,\n",
              "         83.,  84.,  86.,  80.,  59.,  76.,  87.,  99.,  95.,  89.,  92.,\n",
              "         94.,  98.,  97.]),\n",
              " 'product_id': array(['1e9e8ef04dbcff4541ed26657ea517e5',\n",
              "        '3aa071139cb16b67ca9e5dea641aaa2f',\n",
              "        '96bd76ec8810374ed1b65e291975717f', ...,\n",
              "        '9a7c6041fa9592d9d9ef6cfe62a71f8c',\n",
              "        '83808703fc0706a22e264b9d75f04a2e',\n",
              "        '106392145fca363410d287a815be6de4'], dtype=object),\n",
              " 'product_length_cm': array([ 16.,  30.,  18.,  26.,  20.,  38.,  70.,  40.,  27.,  17.,  50.,\n",
              "         68., 100.,  29.,  36.,  21.,  35.,  42.,  23.,  62.,  52.,  34.,\n",
              "         33.,  87.,  19.,  25.,  49.,  22.,  45.,  47.,  69.,  60.,  41.,\n",
              "         32.,  24.,  44.,  63.,  55., 105.,  53.,  75.,  43.,  37.,  80.,\n",
              "         39.,  65.,  58.,  56.,  46.,  84.,  57.,  61.,  71.,  31.,  85.,\n",
              "         13.,  28.,  66.,  78.,  51.,  76.,  48.,  88.,  83.,  95., 102.,\n",
              "         92.,  59.,  14.,   8.,  11.,  82.,  67.,  54.,  15.,  98.,  64.,\n",
              "         79.,  90.,  72.,  93., 103.,  74.,  77.,  12.,  81.,  94., 101.,\n",
              "         86., 104.,   9.,  89.,  91.,  99.,  97.,  10.,  96.,  73.,   7.]),\n",
              " 'product_name_length': array([40., 44., 46., 27., 37., 60., 56., 57., 36., 54., 49., 43., 51.,\n",
              "        59., 22., 39., 52., 58., 55., 35., 50., 45., 31., 47., 63., 33.,\n",
              "        38., 20., 42., 53., 41., 30., 34., 48., 29., 32., 25., 23., 64.,\n",
              "        28., 19., 61., 21., 62., 18., 17., 24., 26., 15., 16., 10., 14.,\n",
              "        69.,  9., 13., 12., 11.,  7.,  8., 68.,  5., 66., 72., 67., 76.,\n",
              "         6.]),\n",
              " 'product_photos_qty': array([ 1.,  4.,  2.,  3.,  5.,  9.,  6.,  7., 12., 10., 11., 17.,  8.,\n",
              "        15., 13., 14., 20., 18., 19.]),\n",
              " 'product_weight_g': array([ 225., 1000.,  154., ..., 1206.,  934., 1920.]),\n",
              " 'product_width_cm': array([ 14.,  20.,  15.,  26.,  13.,  11.,  44.,  40.,  17.,  12.,  16.,\n",
              "         45.,  30.,  50.,  23.,  34.,  31.,  42.,  25.,  41.,  35.,  79.,\n",
              "         38.,  47.,  24.,  49.,  37.,  39.,  53.,  27.,  18.,  56.,  70.,\n",
              "         33.,  55.,  22.,  32.,  46.,  19.,  28.,  43.,  58.,  36.,  21.,\n",
              "         67., 105.,  51.,  60.,  29.,  48.,  52.,  59.,  71.,  68.,   6.,\n",
              "          8.,  10.,  54.,  65.,  57.,  74.,  92.,  82.,  61.,  76.,  63.,\n",
              "         93.,  73.,  80.,  87.,  78.,  83.,   9.,  84.,  91.,  69.,  64.,\n",
              "         90.,  62.,  85.,  66.,  75., 100., 102.,  95.,  72.,  98.,  86.,\n",
              "          7., 103., 101., 118.,  97.,  77., 104.])}"
            ]
          },
          "metadata": {},
          "execution_count": 9
        }
      ]
    },
    {
      "cell_type": "markdown",
      "source": [
        "**The unique values above show us which columns we could engineer:**\n",
        " * The values in the `product_category_name` column are in portuguese. We should translate these to english"
      ],
      "metadata": {
        "id": "s_53KgpxYU2f"
      }
    },
    {
      "cell_type": "code",
      "source": [
        "# Cleaning up the product category names to remove the underscores\n",
        "products['product_category_name'] = products['product_category_name'].str.replace('_', ' ')\n",
        "\n",
        "#Translating from Portugease to English\n",
        "translator = Translator()\n",
        "translated_dic = {i: translator.translate(i, dest = 'en').text for i in products['product_category_name'].unique()}\n",
        "translated_dic"
      ],
      "metadata": {
        "execution": {
          "iopub.status.busy": "2022-05-30T21:22:10.473272Z",
          "iopub.execute_input": "2022-05-30T21:22:10.473812Z",
          "iopub.status.idle": "2022-05-30T21:22:51.809824Z",
          "shell.execute_reply.started": "2022-05-30T21:22:10.473779Z",
          "shell.execute_reply": "2022-05-30T21:22:51.808742Z"
        },
        "trusted": true,
        "colab": {
          "base_uri": "https://localhost:8080/"
        },
        "id": "I0dgoiE4YU2g",
        "outputId": "158fd036-b7ff-43b8-d445-1f29ac4a94a4"
      },
      "execution_count": 10,
      "outputs": [
        {
          "output_type": "execute_result",
          "data": {
            "text/plain": [
              "{'agro industria e comercio': 'agro industry and trade',\n",
              " 'alimentos': 'foods',\n",
              " 'alimentos bebidas': 'Drink foods',\n",
              " 'artes': 'artes',\n",
              " 'artes e artesanato': 'Arts and Crafts',\n",
              " 'artigos de festas': 'party articles',\n",
              " 'artigos de natal': 'Christmas articles',\n",
              " 'audio': 'audio',\n",
              " 'automotivo': 'automotive',\n",
              " 'bebes': 'babies',\n",
              " 'bebidas': 'drinks',\n",
              " 'beleza saude': 'HEALTH BEAUTY',\n",
              " 'brinquedos': 'toys',\n",
              " 'cama mesa banho': 'bed table bath',\n",
              " 'casa conforto': 'comfort house',\n",
              " 'casa conforto 2': 'Comfort 2 house',\n",
              " 'casa construcao': 'Casa Construcao',\n",
              " 'cds dvds musicais': 'cds dvds musicais',\n",
              " 'cine foto': 'Photo cinema',\n",
              " 'climatizacao': 'climatization',\n",
              " 'consoles games': 'consoles games',\n",
              " 'construcao ferramentas construcao': 'Construction Tools Construction',\n",
              " 'construcao ferramentas ferramentas': 'Construction Tools Tools',\n",
              " 'construcao ferramentas iluminacao': 'Construction Tools Illumination',\n",
              " 'construcao ferramentas jardim': 'Construction Tools Garden',\n",
              " 'construcao ferramentas seguranca': 'CONSTRUCTION SECURITY TOOLS',\n",
              " 'cool stuff': 'cool stuff',\n",
              " 'dvds blu ray': 'dvds blu ray',\n",
              " 'eletrodomesticos': 'home appliances',\n",
              " 'eletrodomesticos 2': 'ELECTRICES 2',\n",
              " 'eletronicos': 'electronics',\n",
              " 'eletroportateis': 'electrostile',\n",
              " 'esporte lazer': 'sport leisure',\n",
              " 'fashion bolsas e acessorios': 'Fashion Bags and Accessories',\n",
              " 'fashion calcados': 'Fashion Calcados',\n",
              " 'fashion esporte': 'Fashion Sport',\n",
              " 'fashion roupa feminina': \"Fashion Women's Clothing\",\n",
              " 'fashion roupa infanto juvenil': \"Fashion Children's Clothing\",\n",
              " 'fashion roupa masculina': \"Fashion Men's Clothing\",\n",
              " 'fashion underwear e moda praia': 'Fashion Underwear and Beach Fashion',\n",
              " 'ferramentas jardim': 'Garden tools',\n",
              " 'flores': 'flores',\n",
              " 'fraldas higiene': 'Hygiene diapers',\n",
              " 'industria comercio e negocios': 'trade and business industry',\n",
              " 'informatica acessorios': 'computer accessories',\n",
              " 'instrumentos musicais': 'musical instruments',\n",
              " 'la cuisine': 'the kitchen',\n",
              " 'livros importados': 'Imported books',\n",
              " 'livros interesse geral': 'General Interest Books',\n",
              " 'livros tecnicos': 'technical books',\n",
              " 'malas acessorios': 'Bags Accessories',\n",
              " 'market place': 'marketplace',\n",
              " 'moveis colchao e estofado': 'CITTE AND UPHACK FURNITURE',\n",
              " 'moveis cozinha area de servico jantar e jardim': 'Furniture Kitchen Service Area Dinner and Garden',\n",
              " 'moveis decoracao': 'Furniture Decoration',\n",
              " 'moveis escritorio': 'Furniture office',\n",
              " 'moveis quarto': 'Furniture',\n",
              " 'moveis sala': 'Room Furniture',\n",
              " 'musica': 'musica',\n",
              " 'papelaria': 'stationary store',\n",
              " 'pc gamer': 'pc gamer',\n",
              " 'pcs': 'pcs',\n",
              " 'perfumaria': 'perfumery',\n",
              " 'pet shop': 'pet shop',\n",
              " 'portateis casa forno e cafe': 'CAFE CAFE HOME BARKETS',\n",
              " 'portateis cozinha e preparadores de alimentos': 'Kitchen portable and food coach',\n",
              " 'relogios presentes': 'Watches present',\n",
              " 'seguros e servicos': 'insurance and services',\n",
              " 'sinalizacao e seguranca': 'SIGNALIZATION AND SAFETY',\n",
              " 'tablets impressao imagem': 'IMAGE IMPORT TABLETS',\n",
              " 'telefonia': 'telephony',\n",
              " 'telefonia fixa': 'fixed telephony',\n",
              " 'utilidades domesticas': 'domestic profits'}"
            ]
          },
          "metadata": {},
          "execution_count": 10
        }
      ]
    },
    {
      "cell_type": "code",
      "source": [
        "# Some of the values have incorrectly translated so we will change those manually\n",
        "\n",
        "translated_dic['informatica acessorios'] = 'Computer Accessories'\n",
        "translated_dic['malas acessorios'] = 'Accessory Bags'\n",
        "translated_dic['fashion calcados'] = 'Fashion Shoes'\n",
        "translated_dic['telefonia'] = 'Telephone'\n",
        "translated_dic['eletroportateis'] = 'Small Appliances'\n",
        "translated_dic['Climatizacao'] = 'Air Conditioning'\n",
        "translated_dic['telefonia fixa'] = 'Telephony Fix'\n",
        "translated_dic['eletrodomesticos 2'] = 'Home Appliances 2'\n",
        "translated_dic['portateis casa forno e cafe'] = 'Portable Home Oven and Coffee'\n",
        "translated_dic['portateis cozinha e preparadores de alimentos'] = 'Portable Cooking and Food Preparers'\n",
        "translated_dic['flores'] = 'Flowers'\n",
        "translated_dic['moveis colchao e estofado'] = 'mattress and upholstery furniture'\n",
        "\n",
        "translated_dic =  {k:v.title() for k,v in translated_dic.items()}\n",
        "\n",
        "products['product_category_name'] = products['product_category_name'].map(translated_dic)"
      ],
      "metadata": {
        "execution": {
          "iopub.status.busy": "2022-05-30T21:34:03.640594Z",
          "iopub.execute_input": "2022-05-30T21:34:03.641001Z",
          "iopub.status.idle": "2022-05-30T21:34:03.65435Z",
          "shell.execute_reply.started": "2022-05-30T21:34:03.640968Z",
          "shell.execute_reply": "2022-05-30T21:34:03.653339Z"
        },
        "trusted": true,
        "id": "fsQ0vl2GYU2g"
      },
      "execution_count": 11,
      "outputs": []
    },
    {
      "cell_type": "markdown",
      "source": [
        "**Finally, we will check for any irregular values that may need to be removed**\n",
        "\n",
        "If the data has any extreme outliers or any impossible values, they will have to be removed."
      ],
      "metadata": {
        "id": "iUAIYbXMYU2i"
      }
    },
    {
      "cell_type": "code",
      "source": [
        "quantative_rows = products.iloc[:, 2:]\n",
        "quantative_rows.plot(subplots=True, layout=(4,8), kind='box', figsize=(20,18), patch_artist=True)\n",
        "plt.subplots_adjust(wspace=0.5)\n",
        "print(quantative_rows.min(axis=0))"
      ],
      "metadata": {
        "execution": {
          "iopub.status.busy": "2022-05-30T23:42:47.101399Z",
          "iopub.execute_input": "2022-05-30T23:42:47.101868Z",
          "iopub.status.idle": "2022-05-30T23:42:48.577859Z",
          "shell.execute_reply.started": "2022-05-30T23:42:47.101833Z",
          "shell.execute_reply": "2022-05-30T23:42:48.576864Z"
        },
        "trusted": true,
        "colab": {
          "base_uri": "https://localhost:8080/",
          "height": 365
        },
        "id": "vmgxM6jLYU2i",
        "outputId": "76e8b2e2-8e4e-4359-ea5e-e0d5f40f46e9"
      },
      "execution_count": 12,
      "outputs": [
        {
          "output_type": "stream",
          "name": "stdout",
          "text": [
            "product_name_length           5.0\n",
            "product_description_length    4.0\n",
            "product_photos_qty            1.0\n",
            "product_weight_g              0.0\n",
            "product_length_cm             7.0\n",
            "product_height_cm             2.0\n",
            "product_width_cm              6.0\n",
            "dtype: float64\n"
          ]
        },
        {
          "output_type": "display_data",
          "data": {
            "text/plain": [
              "<Figure size 1440x1296 with 32 Axes>"
            ],
            "image/png": "[encoded data removed]"
          },
          "metadata": {
            "needs_background": "light"
          }
        }
      ]
    },
    {
      "cell_type": "markdown",
      "source": [
        "From the Boxplots above we can see that while there are a lot of outliars, given the context of the columns, none are inexplainable. \n",
        "\n",
        "When looking at the minimum value for each column however, we can see that `product_weight_g` has a minimum of 0 which should be impossible. Lets explore the `product_weight_g` column to try and solve the problem."
      ],
      "metadata": {
        "id": "6pMDQMyHYU2j"
      }
    },
    {
      "cell_type": "code",
      "source": [
        "products[products['product_weight_g'] == 0]"
      ],
      "metadata": {
        "execution": {
          "iopub.status.busy": "2022-05-30T21:45:14.633387Z",
          "iopub.execute_input": "2022-05-30T21:45:14.633781Z",
          "iopub.status.idle": "2022-05-30T21:45:14.652718Z",
          "shell.execute_reply.started": "2022-05-30T21:45:14.633751Z",
          "shell.execute_reply": "2022-05-30T21:45:14.652045Z"
        },
        "trusted": true,
        "colab": {
          "base_uri": "https://localhost:8080/",
          "height": 239
        },
        "id": "Jq3TW6-zYU2j",
        "outputId": "453ecec2-eada-47e2-e612-68a238229ab3"
      },
      "execution_count": 13,
      "outputs": [
        {
          "output_type": "execute_result",
          "data": {
            "text/plain": [
              "                             product_id product_category_name  \\\n",
              "9769   81781c0fed9fe1ad6e8c81fca1e1cb08        Bed Table Bath   \n",
              "13683  8038040ee2a71048d4bdbbdc985b69ab        Bed Table Bath   \n",
              "14997  36ba42dd187055e1fbe943b2d11430ca        Bed Table Bath   \n",
              "32079  e673e90efa65a5409ff4196c038bb5af        Bed Table Bath   \n",
              "\n",
              "       product_name_length  product_description_length  product_photos_qty  \\\n",
              "9769                  51.0                       529.0                 1.0   \n",
              "13683                 48.0                       528.0                 1.0   \n",
              "14997                 53.0                       528.0                 1.0   \n",
              "32079                 53.0                       528.0                 1.0   \n",
              "\n",
              "       product_weight_g  product_length_cm  product_height_cm  \\\n",
              "9769                0.0               30.0               25.0   \n",
              "13683               0.0               30.0               25.0   \n",
              "14997               0.0               30.0               25.0   \n",
              "32079               0.0               30.0               25.0   \n",
              "\n",
              "       product_width_cm  \n",
              "9769               30.0  \n",
              "13683              30.0  \n",
              "14997              30.0  \n",
              "32079              30.0  "
            ],
            "text/html": [
              "\n",
              "  <div id=\"df-222a909a-b8d8-4f95-a38f-8c2753a8e5ed\">\n",
              "    <div class=\"colab-df-container\">\n",
              "      <div>\n",
              "<style scoped>\n",
              "    .dataframe tbody tr th:only-of-type {\n",
              "        vertical-align: middle;\n",
              "    }\n",
              "\n",
              "    .dataframe tbody tr th {\n",
              "        vertical-align: top;\n",
              "    }\n",
              "\n",
              "    .dataframe thead th {\n",
              "        text-align: right;\n",
              "    }\n",
              "</style>\n",
              "<table border=\"1\" class=\"dataframe\">\n",
              "  <thead>\n",
              "    <tr style=\"text-align: right;\">\n",
              "      <th></th>\n",
              "      <th>product_id</th>\n",
              "      <th>product_category_name</th>\n",
              "      <th>product_name_length</th>\n",
              "      <th>product_description_length</th>\n",
              "      <th>product_photos_qty</th>\n",
              "      <th>product_weight_g</th>\n",
              "      <th>product_length_cm</th>\n",
              "      <th>product_height_cm</th>\n",
              "      <th>product_width_cm</th>\n",
              "    </tr>\n",
              "  </thead>\n",
              "  <tbody>\n",
              "    <tr>\n",
              "      <th>9769</th>\n",
              "      <td>81781c0fed9fe1ad6e8c81fca1e1cb08</td>\n",
              "      <td>Bed Table Bath</td>\n",
              "      <td>51.0</td>\n",
              "      <td>529.0</td>\n",
              "      <td>1.0</td>\n",
              "      <td>0.0</td>\n",
              "      <td>30.0</td>\n",
              "      <td>25.0</td>\n",
              "      <td>30.0</td>\n",
              "    </tr>\n",
              "    <tr>\n",
              "      <th>13683</th>\n",
              "      <td>8038040ee2a71048d4bdbbdc985b69ab</td>\n",
              "      <td>Bed Table Bath</td>\n",
              "      <td>48.0</td>\n",
              "      <td>528.0</td>\n",
              "      <td>1.0</td>\n",
              "      <td>0.0</td>\n",
              "      <td>30.0</td>\n",
              "      <td>25.0</td>\n",
              "      <td>30.0</td>\n",
              "    </tr>\n",
              "    <tr>\n",
              "      <th>14997</th>\n",
              "      <td>36ba42dd187055e1fbe943b2d11430ca</td>\n",
              "      <td>Bed Table Bath</td>\n",
              "      <td>53.0</td>\n",
              "      <td>528.0</td>\n",
              "      <td>1.0</td>\n",
              "      <td>0.0</td>\n",
              "      <td>30.0</td>\n",
              "      <td>25.0</td>\n",
              "      <td>30.0</td>\n",
              "    </tr>\n",
              "    <tr>\n",
              "      <th>32079</th>\n",
              "      <td>e673e90efa65a5409ff4196c038bb5af</td>\n",
              "      <td>Bed Table Bath</td>\n",
              "      <td>53.0</td>\n",
              "      <td>528.0</td>\n",
              "      <td>1.0</td>\n",
              "      <td>0.0</td>\n",
              "      <td>30.0</td>\n",
              "      <td>25.0</td>\n",
              "      <td>30.0</td>\n",
              "    </tr>\n",
              "  </tbody>\n",
              "</table>\n",
              "</div>\n",
              "      <button class=\"colab-df-convert\" onclick=\"convertToInteractive('df-222a909a-b8d8-4f95-a38f-8c2753a8e5ed')\"\n",
              "              title=\"Convert this dataframe to an interactive table.\"\n",
              "              style=\"display:none;\">\n",
              "        \n",
              "  <svg xmlns=\"http://www.w3.org/2000/svg\" height=\"24px\"viewBox=\"0 0 24 24\"\n",
              "       width=\"24px\">\n",
              "    <path d=\"M0 0h24v24H0V0z\" fill=\"none\"/>\n",
              "    <path d=\"M18.56 5.44l.94 2.06.94-2.06 2.06-.94-2.06-.94-.94-2.06-.94 2.06-2.06.94zm-11 1L8.5 8.5l.94-2.06 2.06-.94-2.06-.94L8.5 2.5l-.94 2.06-2.06.94zm10 10l.94 2.06.94-2.06 2.06-.94-2.06-.94-.94-2.06-.94 2.06-2.06.94z\"/><path d=\"M17.41 7.96l-1.37-1.37c-.4-.4-.92-.59-1.43-.59-.52 0-1.04.2-1.43.59L10.3 9.45l-7.72 7.72c-.78.78-.78 2.05 0 2.83L4 21.41c.39.39.9.59 1.41.59.51 0 1.02-.2 1.41-.59l7.78-7.78 2.81-2.81c.8-.78.8-2.07 0-2.86zM5.41 20L4 18.59l7.72-7.72 1.47 1.35L5.41 20z\"/>\n",
              "  </svg>\n",
              "      </button>\n",
              "      \n",
              "  <style>\n",
              "    .colab-df-container {\n",
              "      display:flex;\n",
              "      flex-wrap:wrap;\n",
              "      gap: 12px;\n",
              "    }\n",
              "\n",
              "    .colab-df-convert {\n",
              "      background-color: #E8F0FE;\n",
              "      border: none;\n",
              "      border-radius: 50%;\n",
              "      cursor: pointer;\n",
              "      display: none;\n",
              "      fill: #1967D2;\n",
              "      height: 32px;\n",
              "      padding: 0 0 0 0;\n",
              "      width: 32px;\n",
              "    }\n",
              "\n",
              "    .colab-df-convert:hover {\n",
              "      background-color: #E2EBFA;\n",
              "      box-shadow: 0px 1px 2px rgba(60, 64, 67, 0.3), 0px 1px 3px 1px rgba(60, 64, 67, 0.15);\n",
              "      fill: #174EA6;\n",
              "    }\n",
              "\n",
              "    [theme=dark] .colab-df-convert {\n",
              "      background-color: #3B4455;\n",
              "      fill: #D2E3FC;\n",
              "    }\n",
              "\n",
              "    [theme=dark] .colab-df-convert:hover {\n",
              "      background-color: #434B5C;\n",
              "      box-shadow: 0px 1px 3px 1px rgba(0, 0, 0, 0.15);\n",
              "      filter: drop-shadow(0px 1px 2px rgba(0, 0, 0, 0.3));\n",
              "      fill: #FFFFFF;\n",
              "    }\n",
              "  </style>\n",
              "\n",
              "      <script>\n",
              "        const buttonEl =\n",
              "          document.querySelector('#df-222a909a-b8d8-4f95-a38f-8c2753a8e5ed button.colab-df-convert');\n",
              "        buttonEl.style.display =\n",
              "          google.colab.kernel.accessAllowed ? 'block' : 'none';\n",
              "\n",
              "        async function convertToInteractive(key) {\n",
              "          const element = document.querySelector('#df-222a909a-b8d8-4f95-a38f-8c2753a8e5ed');\n",
              "          const dataTable =\n",
              "            await google.colab.kernel.invokeFunction('convertToInteractive',\n",
              "                                                     [key], {});\n",
              "          if (!dataTable) return;\n",
              "\n",
              "          const docLinkHtml = 'Like what you see? Visit the ' +\n",
              "            '<a target=\"_blank\" href=https://colab.research.google.com/notebooks/data_table.ipynb>data table notebook</a>'\n",
              "            + ' to learn more about interactive tables.';\n",
              "          element.innerHTML = '';\n",
              "          dataTable['output_type'] = 'display_data';\n",
              "          await google.colab.output.renderOutput(dataTable, element);\n",
              "          const docLink = document.createElement('div');\n",
              "          docLink.innerHTML = docLinkHtml;\n",
              "          element.appendChild(docLink);\n",
              "        }\n",
              "      </script>\n",
              "    </div>\n",
              "  </div>\n",
              "  "
            ]
          },
          "metadata": {},
          "execution_count": 13
        }
      ]
    },
    {
      "cell_type": "code",
      "source": [
        ""
      ],
      "metadata": {
        "id": "tWtRSZTPVCuL"
      },
      "execution_count": 13,
      "outputs": []
    },
    {
      "cell_type": "markdown",
      "source": [
        "The cell above shows every row in which the `product_weight_g` is 0. It is impossible for a physical object to have no weight therefore we will remove these rows."
      ],
      "metadata": {
        "id": "LnUGC-3jYU2j"
      }
    },
    {
      "cell_type": "code",
      "source": [
        "products = products[products['product_weight_g'] == 0]"
      ],
      "metadata": {
        "id": "1R9vFJngEnjp"
      },
      "execution_count": 14,
      "outputs": []
    },
    {
      "cell_type": "markdown",
      "source": [
        "## Preparing the sellers dataset"
      ],
      "metadata": {
        "id": "SuF9UdvzYU2k"
      }
    },
    {
      "cell_type": "code",
      "source": [
        "# First lets view the Null values in this dataset\n",
        "sellers.isna().sum()"
      ],
      "metadata": {
        "execution": {
          "iopub.status.busy": "2022-05-30T21:48:49.097874Z",
          "iopub.execute_input": "2022-05-30T21:48:49.09883Z",
          "iopub.status.idle": "2022-05-30T21:48:49.110063Z",
          "shell.execute_reply.started": "2022-05-30T21:48:49.098791Z",
          "shell.execute_reply": "2022-05-30T21:48:49.109101Z"
        },
        "trusted": true,
        "colab": {
          "base_uri": "https://localhost:8080/"
        },
        "id": "w3B_zB0QYU2k",
        "outputId": "2a85aaa5-ddf9-440c-bf35-1d1a1067bde5"
      },
      "execution_count": 15,
      "outputs": [
        {
          "output_type": "execute_result",
          "data": {
            "text/plain": [
              "seller_id                 0\n",
              "seller_zip_code_prefix    0\n",
              "seller_city               0\n",
              "seller_state              0\n",
              "dtype: int64"
            ]
          },
          "metadata": {},
          "execution_count": 15
        }
      ]
    },
    {
      "cell_type": "markdown",
      "source": [
        "As there are no null values, we can move straight onto feature engineering."
      ],
      "metadata": {
        "id": "zXagqDfqYU2l"
      }
    },
    {
      "cell_type": "code",
      "source": [
        "#Lets first take a look at the unique values for every column.\n",
        "{k: sellers[k].unique() for k in sellers.columns}"
      ],
      "metadata": {
        "execution": {
          "iopub.status.busy": "2022-05-30T21:51:29.949189Z",
          "iopub.execute_input": "2022-05-30T21:51:29.949629Z",
          "iopub.status.idle": "2022-05-30T21:51:29.960674Z",
          "shell.execute_reply.started": "2022-05-30T21:51:29.949593Z",
          "shell.execute_reply": "2022-05-30T21:51:29.959905Z"
        },
        "trusted": true,
        "colab": {
          "base_uri": "https://localhost:8080/"
        },
        "id": "lI-gt3IRYU2l",
        "outputId": "f1d5ee55-5d18-412a-e2d3-3fa6414a88ef"
      },
      "execution_count": 16,
      "outputs": [
        {
          "output_type": "execute_result",
          "data": {
            "text/plain": [
              "{'seller_city': array(['campinas', 'mogi guacu', 'rio de janeiro', 'sao paulo',\n",
              "        'braganca paulista', 'brejao', 'penapolis', 'curitiba', 'anapolis',\n",
              "        'itirapina', 'tubarao', 'lauro de freitas', 'imbituba', 'brasilia',\n",
              "        'porto seguro', 'guaruja', 'tabatinga', 'salto', 'tres de maio',\n",
              "        'belo horizonte', 'arapongas', 'sao bernardo do campo', 'tatui',\n",
              "        'garopaba', 'camanducaia', 'tupa', 'guarulhos',\n",
              "        'sao jose dos pinhais', 'sao ludgero', 'sao jose', 'piracicaba',\n",
              "        'porto alegre', 'congonhal', 'santo andre', 'osasco', 'valinhos',\n",
              "        'joinville', 'saquarema', 'barra velha', 'petropolis',\n",
              "        'santo antonio da patrulha', 'ponta grossa', 'santana de parnaiba',\n",
              "        'sao carlos', 'ibitinga', 'barueri', 'caxias do sul', 'araguari',\n",
              "        'contagem', 'jaragua do sul', 'lages - sc', 'bento goncalves',\n",
              "        'catanduva', 'ribeirao pires', 'jaboticabal', 'echapora', 'cotia',\n",
              "        'rio do sul', 'sorocaba', 'pradopolis', 'itaborai', 'mirassol',\n",
              "        'birigui', 'assis', 'jaguariuna', 'araraquara', 'macae',\n",
              "        'rio claro', 'londrina', 'ribeirao preto', 'tres coracoes',\n",
              "        'nhandeara', 'orleans', 'cuiaba', 'formosa do oeste', 'santos',\n",
              "        'santa terezinha de goias', 'arvorezinha', 'guiricema', 'caruaru',\n",
              "        'franca', 'salvador', 'diadema', 'itaquaquecetuba',\n",
              "        'lencois paulista', 'carapicuiba', 'uruacu', 'itajai', 'loanda',\n",
              "        'maringa', 'ferraz de vasconcelos', 'limeira', 'claudio',\n",
              "        'niteroi', 'osvaldo cruz', 'sao goncalo', 'jaciara',\n",
              "        'balenario camboriu', 'timbo', 'jacutinga', 'fortaleza',\n",
              "        'ferraz de  vasconcelos', 'mirandopolis', 'bauru', 'jacarei',\n",
              "        'itu', 'laranjeiras do sul', 'videira', 'florianopolis',\n",
              "        'itapecerica da serra', 'mamanguape', 'ponte nova', 'goioere',\n",
              "        'pederneiras', 'itapevi', 'goiania', 'campina grande',\n",
              "        'estancia velha', 'resende', 'maua', 'caratinga', 'auriflama/sp',\n",
              "        'cafelandia', 'uba', 'sao paulo / sao paulo',\n",
              "        'sao jose do rio preto', 'porto ferreira', 'tres coroas',\n",
              "        'blumenau', 'mogi das cruzes', 'jaci', 'laranjal paulista',\n",
              "        'americana', 'sertanopolis', 'apucarana', 'colombo',\n",
              "        'vicente de carvalho', 'mesquita', 'sao pauo', 'cascavel',\n",
              "        'fazenda rio grande', 'taboao da serra', 'sao jose dos campos',\n",
              "        'toledo', 'marechal candido rondon', 'jundiai', 'mandirituba',\n",
              "        'suzano', 'vespasiano', 'santa rosa', 'sao joaquim da barra',\n",
              "        'santo antonio de posse', 'uruguaiana', 'campanha', 'piracanjuba',\n",
              "        'concordia', 'santa rita do sapucai', 'barretos', 'indaiatuba',\n",
              "        'nilopolis', 'pompeia', 'barro alto', 'são paulo', 'praia grande',\n",
              "        'luiz alves', 'brusque', 'criciuma', 'jales', 'atibaia',\n",
              "        'rio branco', 'barra mansa', 'marilia', 'bahia', 'taubate',\n",
              "        'cascavael', 'monteiro lobato', 'viana', 'paraiba do sul',\n",
              "        'mococa', 'sao roque', 'passos', 'francisco beltrao', 'tocantins',\n",
              "        'porto belo', 'nova iguacu', 'icara', 'lajeado', 'horizontina',\n",
              "        'votorantim', 'campo bom', 'monte alto', 'fernandopolis',\n",
              "        'pedreira', 'poa', 'divinopolis', 'santa barbara d´oeste',\n",
              "        'canoas', 'mombuca', 'sete lagoas', 'campo do meio',\n",
              "        'cordeiropolis', 'uberlandia', 'santa barbara d oeste',\n",
              "        'volta redonda', '04482255', 'aracatuba', 'monte siao', 'garuva',\n",
              "        'bonfinopolis de minas', 'cosmopolis', 'pocos de caldas',\n",
              "        'artur nogueira', 'joao pessoa', 'dois corregos', 'araquari',\n",
              "        'novo hamburgo, rio grande do sul, brasil', 'floranopolis',\n",
              "        'sumare', 'guaira', 'cachoeiro de itapemirim', 'serrana',\n",
              "        'rolandia', 'congonhas', 'sao  jose dos pinhais', 'boituva',\n",
              "        'mairipora', 'guaimbe', 'parai', 'aperibe', 'jaguaruna',\n",
              "        'vila velha', 'juiz de fora', 'fronteira', 'novo horizonte',\n",
              "        'pilar do sul', 'itajobi', 'cariacica / es', 'prados', 'mucambo',\n",
              "        'montes claros', 'vicosa', 'porto velho', 'sao jose do rio pardo',\n",
              "        'pato branco', 'sao joao del rei', 'presidente prudente',\n",
              "        'paracambi', 'serra negra', 'sao caetano do sul', 'bom jardim',\n",
              "        'serra redonda', 'sao francisco do sul', 'betim', 'imbituva',\n",
              "        'guaratuba', 'teresina', \"sao miguel d'oeste\", 'california',\n",
              "        'japira', 'foz do iguacu', 'nova friburgo', 'itau de minas',\n",
              "        'oliveira', 'sabara', 'pedrinhas paulista', 'votuporanga',\n",
              "        'holambra', 'ararangua', 'pinhais', 'pato bragado', 'carazinho',\n",
              "        'arinos', 'sao pedro', 'lages', 'ampere', 'itauna', 'mogi mirim',\n",
              "        'curitibanos', 'brasilia df', 'mogi das cruses', 'hortolandia',\n",
              "        'ipatinga', 'laguna', 'dores de campos', 'sao paulo - sp',\n",
              "        'araras', 'divisa nova', 'igaracu do tiete', 'pitangueiras',\n",
              "        'campo grande', 'garca', 'presidente epitacio', 'sbc/sp',\n",
              "        \"arraial d'ajuda (porto seguro)\", 'pacatuba', 'formosa',\n",
              "        'borda da mata', 'ubatuba', 'entre rios do oeste', 'formiga',\n",
              "        'venancio aires', 'navegantes', 'cruzeiro', 'santa maria',\n",
              "        'muriae', 'santo andre/sao paulo', 'ipe', 'messias targino',\n",
              "        'varginha', 'botucatu', 'domingos martins', 'uberaba',\n",
              "        'coronel fabriciano', 'cachoeirinha', 's jose do rio preto',\n",
              "        'taruma', 'pirassununga', 'aruja', 'sp / sp', 'angra dos reis',\n",
              "        'juzeiro do norte', 'laurentino', 'flores da cunha', 'montenegro',\n",
              "        'pedregulho', 'novo hamburgo', 'torres', 'aracaju',\n",
              "        'santa catarina', 'joao pinheiro', 'bady bassitt', 'sinop',\n",
              "        'guarapuava', 'araucaria', 'vitoria', 'batatais', 'lagoa santa',\n",
              "        'chapeco', 'umuarama', 'belford roxo', 'cariacica',\n",
              "        'monte alegre do sul', 'sp', 'lagoa da prata', 'rolante',\n",
              "        'teresopolis', 'itaporanga', 'campo largo', 'sao joao de meriti',\n",
              "        'maua/sao paulo', 'bom jesus dos perdoes', 'brotas', 'irece',\n",
              "        'coxim', 'jau', 'conselheiro lafaiete', 'amparo',\n",
              "        'sao miguel do oeste', 'gaspar', 'rio bonito', 'mandaguari',\n",
              "        'vargem grande paulista', 'conchal', 'cambe', 'marialva',\n",
              "        'alfenas', 'balneario camboriu', 'palhoca', 'sao bernardo do capo',\n",
              "        'guara', 'colatina', 'franco da rocha', 'lambari',\n",
              "        'mogi das cruzes / sp', 'treze tilias',\n",
              "        'rio de janeiro \\\\rio de janeiro', 'paulo lopes', 'santa cecilia',\n",
              "        'braco do norte', 'floresta', 'farroupilha', 'castro', 'luziania',\n",
              "        'joao monlevade', 'pelotas', 'sao bento', 'campos dos goytacazes',\n",
              "        'ouro fino', 'sao jose dos pinhas', 'tiete', 'viamao', 'janauba',\n",
              "        'capivari', 'santa terezinha de itaipu', 'igrejinha',\n",
              "        'sao bento do sul', 'duque de caxias', 'araxa', 'canoinhas',\n",
              "        'recife', 'barbacena/ minas gerais', 'vera cruz', 'parnamirim',\n",
              "        'santo angelo', 'paincandu', 'tres rios', 'tanabi',\n",
              "        'portoferreira', 'itatiba', 'sarandi', 'cravinhos', 'morrinhos',\n",
              "        'bebedouro', 'almirante tamandare', 'bertioga', 'natal',\n",
              "        'belo horizont', 'ivoti', 'andira-pr', 'cerqueira cesar',\n",
              "        'marapoama', 'imigrante', 'mairinque', 'sao paulo sp',\n",
              "        'rio de janeiro / rio de janeiro', 'andradas', 'sando andre',\n",
              "        'nova odessa', 'paulinia', 'extrema', 'olimpia',\n",
              "        'angra dos reis rj', 'ronda alta', 'sao  paulo', 'sao vicente',\n",
              "        'pinhais/pr', 'portao', 'registro', 'ao bernardo do campo',\n",
              "        'carmo do cajuru', 'embu das artes', 'fernando prestes',\n",
              "        'castro pires', 'vargem grande do sul', 'campina das missoes',\n",
              "        'sao pedro da aldeia', 'miguelopolis', 'itapui', 'sbc', 'neopolis',\n",
              "        'mineiros do tiete', 'varzea paulista', 'nova lima', 'barbacena',\n",
              "        'caieiras', 'buritama', 'erechim', 'itapetininga', 'pinhalzinho',\n",
              "        'descalvado', 'pitanga', 'bage', 'taio', \"santa barbara d'oeste\",\n",
              "        'patos de minas', 'garulhos', 'jarinu', 'nova petropolis',\n",
              "        'ribeirao preto / sao paulo', 'camboriu', 'nova trento',\n",
              "        'sao luis', 'sao jose do rio pret', 'eusebio', 'itaipulandia',\n",
              "        'ipira', 'campo magro', 'tiradentes', 'sao paluo', 'baependi',\n",
              "        'embu guacu', 'paraiso do sul', 'aparecida', 'cataguases',\n",
              "        'bariri', 'abadia de goias', 'alambari', 'ji parana', 'vassouras',\n",
              "        'lorena', 'rodeio', 'louveira', 'guanhaes',\n",
              "        'santo antonio de padua', 'presidente getulio', 'campos novos',\n",
              "        'eunapolis', 'engenheiro coelho', 'rio das pedras',\n",
              "        'afonso claudio', 'carapicuiba / sao paulo', 'centro', 'parana',\n",
              "        'indaial', 'bombinhas', 'orlandia', 'itapeva', 'sao sebastiao',\n",
              "        'macatuba', 'sao joao da boa vista', 'teixeira soares',\n",
              "        'mandaguacu', 'rio do oeste', 'vendas@creditparts.com.br',\n",
              "        'armacao dos buzios', 'mateus leme', 'sao paulop',\n",
              "        'campo limpo paulista', 'socorro', 'serra', 'bocaiuva do sul',\n",
              "        'ilheus', 'imbe', 'soledade', 'cajamar', 'rio negrinho',\n",
              "        'clementina', 'francisco morato', 'rio grande', 'xaxim', 'manaus',\n",
              "        'terra boa', 'minas gerais', 'avare', 'ibirite',\n",
              "        'santa maria da serra', 'auriflama', 'condor', 'ibia', 'guanambi',\n",
              "        'caucaia', 'cordilheira alta', 'carmo da mata', 'ouro preto',\n",
              "        'pedro leopoldo', 'santa rosa de viterbo', 'xanxere',\n",
              "        'alvares machado', 'scao jose do rio pardo', 'ribeirao das neves',\n",
              "        'medianeira', 'massaranduba', 'cornelio procopio', 'pirituba',\n",
              "        'jambeiro', 'sao leopoldo', 'aguas claras df', 'ribeirao pretp',\n",
              "        'cianorte', 'feira de santana', 'cachoeira do sul', 'guariba',\n",
              "        'sao sebastiao da grama/sp', 'dracena', 'ourinhos',\n",
              "        'robeirao preto', 'cacador', 'gama', 'queimados', 'cananeia',\n",
              "        'presidente bernardes', 'pinhalao', 'sombrio', 'campo mourao',\n",
              "        'ilicinea', 'itabira', 'barrinha', 'jussara', 'uniao da vitoria',\n",
              "        'triunfo', 'santa cruz do sul', 'colorado', 'itapema', 'sapiranga',\n",
              "        'paranavai', 'alvorada', 'ipaussu', 'rio verde', 'mage',\n",
              "        'tabao da serra', 'bofete', 'picarras', 'marica', 'jaragua',\n",
              "        'governador valadares', 'rio de janeiro, rio de janeiro, brasil',\n",
              "        'pouso alegre', 'timoteo', 'muqui', 'ipua', 'jacarei / sao paulo',\n",
              "        'varzea alegre', 'guaratingueta', 'tambau', 'irati',\n",
              "        'riberao preto', 'aparecida de goiania', 'bandeirantes',\n",
              "        'vitoria de santo antao', 'palotina', 'leme'], dtype=object),\n",
              " 'seller_id': array(['3442f8959a84dea7ee197c632cb2df15',\n",
              "        'd1b65fc7debc3361ea86b5f14c68d2e2',\n",
              "        'ce3ad9de960102d0677a81f5d0bb7b2d', ...,\n",
              "        '74871d19219c7d518d0090283e03c137',\n",
              "        'e603cf3fec55f8697c9059638d6c8eb5',\n",
              "        '9e25199f6ef7e7c347120ff175652c3b'], dtype=object),\n",
              " 'seller_state': array(['SP', 'RJ', 'PE', 'PR', 'GO', 'SC', 'BA', 'DF', 'RS', 'MG', 'RN',\n",
              "        'MT', 'CE', 'PB', 'AC', 'ES', 'RO', 'PI', 'MS', 'SE', 'MA', 'AM',\n",
              "        'PA'], dtype=object),\n",
              " 'seller_zip_code_prefix': array([13023, 13844, 20031, ...,  4650, 96080, 12051])}"
            ]
          },
          "metadata": {},
          "execution_count": 16
        }
      ]
    },
    {
      "cell_type": "markdown",
      "source": [
        "**The unique values above show us which columns we could engineer:**\n",
        " * The values in the seller_state column have the abbreviations for the state names. To create map charts in Tableau, we would have to replace these abbreviations with the state’s full name"
      ],
      "metadata": {
        "id": "1vghfYInYU2m"
      }
    },
    {
      "cell_type": "code",
      "source": [
        "# Scraping the State names from wikipedia\n",
        "brazilian_cities_url = 'https://en.wikipedia.org/wiki/Federative_units_of_Brazil'\n",
        "res = requests.get(brazilian_cities_url)\n",
        "soup = BeautifulSoup(res.text, \"html.parser\")\n",
        "table = soup.find_all('table')\n",
        "state_names = pd.read_html(str(table[1]))[0]\n",
        "\n",
        "dic = pd.Series(state_names['Flag and name'].values,index=state_names['Code']).to_dict()\n",
        "sellers['seller_state'] = sellers['seller_state'].map(dic)"
      ],
      "metadata": {
        "execution": {
          "iopub.status.busy": "2022-05-30T22:23:04.72886Z",
          "iopub.execute_input": "2022-05-30T22:23:04.729366Z",
          "iopub.status.idle": "2022-05-30T22:23:05.848071Z",
          "shell.execute_reply.started": "2022-05-30T22:23:04.729325Z",
          "shell.execute_reply": "2022-05-30T22:23:05.847119Z"
        },
        "trusted": true,
        "id": "w1isEGqNYU2m"
      },
      "execution_count": 17,
      "outputs": []
    },
    {
      "cell_type": "code",
      "source": [
        "sellers.head()"
      ],
      "metadata": {
        "execution": {
          "iopub.status.busy": "2022-05-30T22:28:52.621701Z",
          "iopub.execute_input": "2022-05-30T22:28:52.622691Z",
          "iopub.status.idle": "2022-05-30T22:28:52.633765Z",
          "shell.execute_reply.started": "2022-05-30T22:28:52.62264Z",
          "shell.execute_reply": "2022-05-30T22:28:52.63276Z"
        },
        "trusted": true,
        "colab": {
          "base_uri": "https://localhost:8080/",
          "height": 206
        },
        "id": "2DaJTJYfYU2n",
        "outputId": "ba7989a8-f2c8-4eeb-e238-7bd5831abd18"
      },
      "execution_count": 18,
      "outputs": [
        {
          "output_type": "execute_result",
          "data": {
            "text/plain": [
              "                          seller_id  seller_zip_code_prefix  \\\n",
              "0  3442f8959a84dea7ee197c632cb2df15                   13023   \n",
              "1  d1b65fc7debc3361ea86b5f14c68d2e2                   13844   \n",
              "2  ce3ad9de960102d0677a81f5d0bb7b2d                   20031   \n",
              "3  c0f3eea2e14555b6faeea3dd58c1b1c3                    4195   \n",
              "4  51a04a8a6bdcb23deccc82b0b80742cf                   12914   \n",
              "\n",
              "         seller_city    seller_state  \n",
              "0           campinas       São Paulo  \n",
              "1         mogi guacu       São Paulo  \n",
              "2     rio de janeiro  Rio de Janeiro  \n",
              "3          sao paulo       São Paulo  \n",
              "4  braganca paulista       São Paulo  "
            ],
            "text/html": [
              "\n",
              "  <div id=\"df-501967c0-1e61-4dc7-bcf1-4c780464abef\">\n",
              "    <div class=\"colab-df-container\">\n",
              "      <div>\n",
              "<style scoped>\n",
              "    .dataframe tbody tr th:only-of-type {\n",
              "        vertical-align: middle;\n",
              "    }\n",
              "\n",
              "    .dataframe tbody tr th {\n",
              "        vertical-align: top;\n",
              "    }\n",
              "\n",
              "    .dataframe thead th {\n",
              "        text-align: right;\n",
              "    }\n",
              "</style>\n",
              "<table border=\"1\" class=\"dataframe\">\n",
              "  <thead>\n",
              "    <tr style=\"text-align: right;\">\n",
              "      <th></th>\n",
              "      <th>seller_id</th>\n",
              "      <th>seller_zip_code_prefix</th>\n",
              "      <th>seller_city</th>\n",
              "      <th>seller_state</th>\n",
              "    </tr>\n",
              "  </thead>\n",
              "  <tbody>\n",
              "    <tr>\n",
              "      <th>0</th>\n",
              "      <td>3442f8959a84dea7ee197c632cb2df15</td>\n",
              "      <td>13023</td>\n",
              "      <td>campinas</td>\n",
              "      <td>São Paulo</td>\n",
              "    </tr>\n",
              "    <tr>\n",
              "      <th>1</th>\n",
              "      <td>d1b65fc7debc3361ea86b5f14c68d2e2</td>\n",
              "      <td>13844</td>\n",
              "      <td>mogi guacu</td>\n",
              "      <td>São Paulo</td>\n",
              "    </tr>\n",
              "    <tr>\n",
              "      <th>2</th>\n",
              "      <td>ce3ad9de960102d0677a81f5d0bb7b2d</td>\n",
              "      <td>20031</td>\n",
              "      <td>rio de janeiro</td>\n",
              "      <td>Rio de Janeiro</td>\n",
              "    </tr>\n",
              "    <tr>\n",
              "      <th>3</th>\n",
              "      <td>c0f3eea2e14555b6faeea3dd58c1b1c3</td>\n",
              "      <td>4195</td>\n",
              "      <td>sao paulo</td>\n",
              "      <td>São Paulo</td>\n",
              "    </tr>\n",
              "    <tr>\n",
              "      <th>4</th>\n",
              "      <td>51a04a8a6bdcb23deccc82b0b80742cf</td>\n",
              "      <td>12914</td>\n",
              "      <td>braganca paulista</td>\n",
              "      <td>São Paulo</td>\n",
              "    </tr>\n",
              "  </tbody>\n",
              "</table>\n",
              "</div>\n",
              "      <button class=\"colab-df-convert\" onclick=\"convertToInteractive('df-501967c0-1e61-4dc7-bcf1-4c780464abef')\"\n",
              "              title=\"Convert this dataframe to an interactive table.\"\n",
              "              style=\"display:none;\">\n",
              "        \n",
              "  <svg xmlns=\"http://www.w3.org/2000/svg\" height=\"24px\"viewBox=\"0 0 24 24\"\n",
              "       width=\"24px\">\n",
              "    <path d=\"M0 0h24v24H0V0z\" fill=\"none\"/>\n",
              "    <path d=\"M18.56 5.44l.94 2.06.94-2.06 2.06-.94-2.06-.94-.94-2.06-.94 2.06-2.06.94zm-11 1L8.5 8.5l.94-2.06 2.06-.94-2.06-.94L8.5 2.5l-.94 2.06-2.06.94zm10 10l.94 2.06.94-2.06 2.06-.94-2.06-.94-.94-2.06-.94 2.06-2.06.94z\"/><path d=\"M17.41 7.96l-1.37-1.37c-.4-.4-.92-.59-1.43-.59-.52 0-1.04.2-1.43.59L10.3 9.45l-7.72 7.72c-.78.78-.78 2.05 0 2.83L4 21.41c.39.39.9.59 1.41.59.51 0 1.02-.2 1.41-.59l7.78-7.78 2.81-2.81c.8-.78.8-2.07 0-2.86zM5.41 20L4 18.59l7.72-7.72 1.47 1.35L5.41 20z\"/>\n",
              "  </svg>\n",
              "      </button>\n",
              "      \n",
              "  <style>\n",
              "    .colab-df-container {\n",
              "      display:flex;\n",
              "      flex-wrap:wrap;\n",
              "      gap: 12px;\n",
              "    }\n",
              "\n",
              "    .colab-df-convert {\n",
              "      background-color: #E8F0FE;\n",
              "      border: none;\n",
              "      border-radius: 50%;\n",
              "      cursor: pointer;\n",
              "      display: none;\n",
              "      fill: #1967D2;\n",
              "      height: 32px;\n",
              "      padding: 0 0 0 0;\n",
              "      width: 32px;\n",
              "    }\n",
              "\n",
              "    .colab-df-convert:hover {\n",
              "      background-color: #E2EBFA;\n",
              "      box-shadow: 0px 1px 2px rgba(60, 64, 67, 0.3), 0px 1px 3px 1px rgba(60, 64, 67, 0.15);\n",
              "      fill: #174EA6;\n",
              "    }\n",
              "\n",
              "    [theme=dark] .colab-df-convert {\n",
              "      background-color: #3B4455;\n",
              "      fill: #D2E3FC;\n",
              "    }\n",
              "\n",
              "    [theme=dark] .colab-df-convert:hover {\n",
              "      background-color: #434B5C;\n",
              "      box-shadow: 0px 1px 3px 1px rgba(0, 0, 0, 0.15);\n",
              "      filter: drop-shadow(0px 1px 2px rgba(0, 0, 0, 0.3));\n",
              "      fill: #FFFFFF;\n",
              "    }\n",
              "  </style>\n",
              "\n",
              "      <script>\n",
              "        const buttonEl =\n",
              "          document.querySelector('#df-501967c0-1e61-4dc7-bcf1-4c780464abef button.colab-df-convert');\n",
              "        buttonEl.style.display =\n",
              "          google.colab.kernel.accessAllowed ? 'block' : 'none';\n",
              "\n",
              "        async function convertToInteractive(key) {\n",
              "          const element = document.querySelector('#df-501967c0-1e61-4dc7-bcf1-4c780464abef');\n",
              "          const dataTable =\n",
              "            await google.colab.kernel.invokeFunction('convertToInteractive',\n",
              "                                                     [key], {});\n",
              "          if (!dataTable) return;\n",
              "\n",
              "          const docLinkHtml = 'Like what you see? Visit the ' +\n",
              "            '<a target=\"_blank\" href=https://colab.research.google.com/notebooks/data_table.ipynb>data table notebook</a>'\n",
              "            + ' to learn more about interactive tables.';\n",
              "          element.innerHTML = '';\n",
              "          dataTable['output_type'] = 'display_data';\n",
              "          await google.colab.output.renderOutput(dataTable, element);\n",
              "          const docLink = document.createElement('div');\n",
              "          docLink.innerHTML = docLinkHtml;\n",
              "          element.appendChild(docLink);\n",
              "        }\n",
              "      </script>\n",
              "    </div>\n",
              "  </div>\n",
              "  "
            ]
          },
          "metadata": {},
          "execution_count": 18
        }
      ]
    },
    {
      "cell_type": "markdown",
      "source": [
        "## Preparing the customers dataset"
      ],
      "metadata": {
        "id": "ZMZE2uOSYU2n"
      }
    },
    {
      "cell_type": "code",
      "source": [
        "# First lets view the Null values in this dataset\n",
        "customers.isna().sum()"
      ],
      "metadata": {
        "execution": {
          "iopub.status.busy": "2022-05-30T22:54:43.400787Z",
          "iopub.execute_input": "2022-05-30T22:54:43.401655Z",
          "iopub.status.idle": "2022-05-30T22:54:43.427637Z",
          "shell.execute_reply.started": "2022-05-30T22:54:43.401615Z",
          "shell.execute_reply": "2022-05-30T22:54:43.426534Z"
        },
        "trusted": true,
        "colab": {
          "base_uri": "https://localhost:8080/"
        },
        "id": "MjBsYqo5YU2o",
        "outputId": "fbc99225-c10c-4cc2-d290-7f79dc1d7aee"
      },
      "execution_count": 19,
      "outputs": [
        {
          "output_type": "execute_result",
          "data": {
            "text/plain": [
              "customer_id                 0\n",
              "customer_unique_id          0\n",
              "customer_zip_code_prefix    0\n",
              "customer_city               0\n",
              "customer_state              0\n",
              "dtype: int64"
            ]
          },
          "metadata": {},
          "execution_count": 19
        }
      ]
    },
    {
      "cell_type": "markdown",
      "source": [
        "As there are no null values, we can move straight onto feature engineering."
      ],
      "metadata": {
        "id": "wO2ziU1fYU2o"
      }
    },
    {
      "cell_type": "code",
      "source": [
        "# Lets take a look at the unique values for every column.\n",
        "{k: customers[k].unique() for k in customers.columns}"
      ],
      "metadata": {
        "execution": {
          "iopub.status.busy": "2022-05-30T22:36:59.477365Z",
          "iopub.execute_input": "2022-05-30T22:36:59.478254Z",
          "iopub.status.idle": "2022-05-30T22:36:59.546247Z",
          "shell.execute_reply.started": "2022-05-30T22:36:59.478207Z",
          "shell.execute_reply": "2022-05-30T22:36:59.545383Z"
        },
        "trusted": true,
        "colab": {
          "base_uri": "https://localhost:8080/"
        },
        "id": "k3BNFbynYU2o",
        "outputId": "7799f267-2061-40d3-8d20-c2a09a338f51"
      },
      "execution_count": 20,
      "outputs": [
        {
          "output_type": "execute_result",
          "data": {
            "text/plain": [
              "{'customer_city': array(['franca', 'sao bernardo do campo', 'sao paulo', ...,\n",
              "        'monte bonito', 'sao rafael', 'eugenio de castro'], dtype=object),\n",
              " 'customer_id': array(['06b8999e2fba1a1fbc88172c00ba8bc7',\n",
              "        '18955e83d337fd6b2def6b18a428ac77',\n",
              "        '4e7b3e00288586ebd08712fdd0374a03', ...,\n",
              "        '5e28dfe12db7fb50a4b2f691faecea5e',\n",
              "        '56b18e2166679b8a959d72dd06da27f9',\n",
              "        '274fa6071e5e17fe303b9748641082c8'], dtype=object),\n",
              " 'customer_state': array(['SP', 'SC', 'MG', 'PR', 'RJ', 'RS', 'PA', 'GO', 'ES', 'BA', 'MA',\n",
              "        'MS', 'CE', 'DF', 'RN', 'PE', 'MT', 'AM', 'AP', 'AL', 'RO', 'PB',\n",
              "        'TO', 'PI', 'AC', 'SE', 'RR'], dtype=object),\n",
              " 'customer_unique_id': array(['861eff4711a542e4b93843c6dd7febb0',\n",
              "        '290c77bc529b7ac935b93aa66c333dc3',\n",
              "        '060e732b5b29e8181a18229c7b0b2b5e', ...,\n",
              "        'e9f50caf99f032f0bf3c55141f019d99',\n",
              "        '73c2643a0a458b49f58cea58833b192e',\n",
              "        '84732c5050c01db9b23e19ba39899398'], dtype=object),\n",
              " 'customer_zip_code_prefix': array([14409,  9790,  1151, ...,  5538, 74980, 99043])}"
            ]
          },
          "metadata": {},
          "execution_count": 20
        }
      ]
    },
    {
      "cell_type": "markdown",
      "source": [
        "**The unique values above show us which columns we could engineer:**\n",
        " * Much like the `seller_state` column, the `customer_state` column also has the abbreviation for the state names. We will have to change these\n",
        " * Using the `customer_unique_id` column, we could create a boolean column which would be used to find returning customers."
      ],
      "metadata": {
        "id": "E0PoAfZXYU2p"
      }
    },
    {
      "cell_type": "code",
      "source": [
        "# Using the previously defined dictionary, we can change the customer_state values\n",
        "customers['customer_state'] = customers['customer_state'].map(dic)\n",
        "customers['customer_state'].head()"
      ],
      "metadata": {
        "execution": {
          "iopub.status.busy": "2022-05-30T22:40:36.670931Z",
          "iopub.execute_input": "2022-05-30T22:40:36.671553Z",
          "iopub.status.idle": "2022-05-30T22:40:36.688157Z",
          "shell.execute_reply.started": "2022-05-30T22:40:36.671508Z",
          "shell.execute_reply": "2022-05-30T22:40:36.687341Z"
        },
        "trusted": true,
        "colab": {
          "base_uri": "https://localhost:8080/"
        },
        "id": "IiI4bsV1YU2p",
        "outputId": "4b30a382-43da-4f0f-d66d-478727be1a28"
      },
      "execution_count": 21,
      "outputs": [
        {
          "output_type": "execute_result",
          "data": {
            "text/plain": [
              "0    São Paulo\n",
              "1    São Paulo\n",
              "2    São Paulo\n",
              "3    São Paulo\n",
              "4    São Paulo\n",
              "Name: customer_state, dtype: object"
            ]
          },
          "metadata": {},
          "execution_count": 21
        }
      ]
    },
    {
      "cell_type": "code",
      "source": [
        "# Creating a column to find returning customers\n",
        "customers['repeat_customer'] = customers['customer_unique_id'].duplicated(keep = False)"
      ],
      "metadata": {
        "execution": {
          "iopub.status.busy": "2022-05-30T22:44:42.654783Z",
          "iopub.execute_input": "2022-05-30T22:44:42.65557Z",
          "iopub.status.idle": "2022-05-30T22:44:42.681924Z",
          "shell.execute_reply.started": "2022-05-30T22:44:42.655526Z",
          "shell.execute_reply": "2022-05-30T22:44:42.680807Z"
        },
        "trusted": true,
        "id": "qeHMWeQ7YU2p"
      },
      "execution_count": 22,
      "outputs": []
    },
    {
      "cell_type": "markdown",
      "source": [
        "## Preparing the order_items dataset"
      ],
      "metadata": {
        "id": "U-pcDKeQYU2q"
      }
    },
    {
      "cell_type": "code",
      "source": [
        "# First lets view the Null values in this dataset\n",
        "order_items.isna().sum()"
      ],
      "metadata": {
        "execution": {
          "iopub.status.busy": "2022-05-30T23:14:40.151746Z",
          "iopub.execute_input": "2022-05-30T23:14:40.152556Z",
          "iopub.status.idle": "2022-05-30T23:14:40.181982Z",
          "shell.execute_reply.started": "2022-05-30T23:14:40.152518Z",
          "shell.execute_reply": "2022-05-30T23:14:40.180969Z"
        },
        "trusted": true,
        "colab": {
          "base_uri": "https://localhost:8080/"
        },
        "id": "_wBdOmWqYU2r",
        "outputId": "7184da65-79fe-4b91-e306-d59b12d3b645"
      },
      "execution_count": 23,
      "outputs": [
        {
          "output_type": "execute_result",
          "data": {
            "text/plain": [
              "order_id               0\n",
              "order_item_id          0\n",
              "product_id             0\n",
              "seller_id              0\n",
              "shipping_limit_date    0\n",
              "price                  0\n",
              "freight_value          0\n",
              "dtype: int64"
            ]
          },
          "metadata": {},
          "execution_count": 23
        }
      ]
    },
    {
      "cell_type": "markdown",
      "source": [
        "As there are no null values, we can move straight onto feature engineering."
      ],
      "metadata": {
        "id": "zSb2RaTTYU2r"
      }
    },
    {
      "cell_type": "code",
      "source": [
        "{k: order_items[k].unique() for k in order_items.columns}"
      ],
      "metadata": {
        "execution": {
          "iopub.status.busy": "2022-05-30T23:16:59.644275Z",
          "iopub.execute_input": "2022-05-30T23:16:59.644664Z",
          "iopub.status.idle": "2022-05-30T23:16:59.718872Z",
          "shell.execute_reply.started": "2022-05-30T23:16:59.644632Z",
          "shell.execute_reply": "2022-05-30T23:16:59.718007Z"
        },
        "trusted": true,
        "colab": {
          "base_uri": "https://localhost:8080/"
        },
        "id": "lai4_y3NYU2s",
        "outputId": "586d2501-1c82-49a6-d6aa-f9f25ca85f18"
      },
      "execution_count": 24,
      "outputs": [
        {
          "output_type": "execute_result",
          "data": {
            "text/plain": [
              "{'freight_value': array([ 13.29,  19.93,  17.87, ..., 127.55,   6.79,   6.37]),\n",
              " 'order_id': array(['00010242fe8c5a6d1ba2dd792cb16214',\n",
              "        '00018f77f2f0320c557190d7a144bdd3',\n",
              "        '000229ec398224ef6ca0657da4fc703e', ...,\n",
              "        'fffce4705a9662cd70adb13d4a31832d',\n",
              "        'fffe18544ffabc95dfada21779c9644f',\n",
              "        'fffe41c64501cc87c801fd61db3f6244'], dtype=object),\n",
              " 'order_item_id': array([ 1,  2,  3,  4,  5,  6,  7,  8,  9, 10, 11, 12, 13, 14, 15, 16, 17,\n",
              "        18, 19, 20, 21]),\n",
              " 'price': array([ 58.9 , 239.9 , 199.  , ...,   7.84, 399.85, 736.  ]),\n",
              " 'product_id': array(['4244733e06e7ecb4970a6e2683c13e61',\n",
              "        'e5f2d52b802189ee658865ca93d83a8f',\n",
              "        'c777355d18b72b67abbeef9df44fd0fd', ...,\n",
              "        'dd469c03ad67e201bc2179ef077dcd48',\n",
              "        'bbe7651fef80287a816ead73f065fc4b',\n",
              "        '350688d9dc1e75ff97be326363655e01'], dtype=object),\n",
              " 'seller_id': array(['48436dade18ac8b2bce089ec2a041202',\n",
              "        'dd7ddc04e1b6c2c614352b383efe2d36',\n",
              "        '5b51032eddd242adc84c38acab88f23d', ...,\n",
              "        '3fefda3299e6dfaea3466ef346a3571a',\n",
              "        '80ceebb4ee9b31afb6c6a916a574a1e2',\n",
              "        '3e35a8bb43569389d3cebef0ce820f69'], dtype=object),\n",
              " 'shipping_limit_date': array(['2017-09-19 09:45:35', '2017-05-03 11:05:13',\n",
              "        '2018-01-18 14:48:30', ..., '2017-10-30 17:14:25',\n",
              "        '2017-08-21 00:04:32', '2018-06-12 17:10:13'], dtype=object)}"
            ]
          },
          "metadata": {},
          "execution_count": 24
        }
      ]
    },
    {
      "cell_type": "markdown",
      "source": [
        "**The unique values above show us which columns we could engineer:**\n",
        " * We will have to check if the `shipping_limit_date` is in a format that Tableau supports. yyyy-MM-dd HH:mm:ss is supported by Tableau therefore there is no issue with that column."
      ],
      "metadata": {
        "id": "MELcRiMmYU2t"
      }
    },
    {
      "cell_type": "markdown",
      "source": [
        "**Finally, we will check for any irregular values that may need to be removed**\n",
        "\n",
        "If the data has any extreme outliers or any impossible values then they will have to be removed"
      ],
      "metadata": {
        "execution": {
          "iopub.status.busy": "2022-05-30T23:22:27.415042Z",
          "iopub.execute_input": "2022-05-30T23:22:27.415413Z",
          "iopub.status.idle": "2022-05-30T23:22:27.421303Z",
          "shell.execute_reply.started": "2022-05-30T23:22:27.415384Z",
          "shell.execute_reply": "2022-05-30T23:22:27.420075Z"
        },
        "id": "G2OTItwgYU2t"
      }
    },
    {
      "cell_type": "code",
      "source": [
        "years = order_items['shipping_limit_date'].apply(lambda x: x.split('-')[0])\n",
        "quantative_rows = order_items.loc[:,['price', 'freight_value']]\n",
        "quantative_rows['Year'] = years\n",
        "\n",
        "fig, ax = plt.subplots(1, 2, figsize = (16, 4))\n",
        "sns.histplot(order_items['price'], ax = ax[0], bins = 50)\n",
        "sns.histplot(order_items['freight_value'], ax = ax[1], bins = 50)\n",
        "ax[0].axvline(order_items['price'].median(), color = 'red')\n",
        "ax[1].axvline(order_items['freight_value'].median(), color = 'red')\n",
        "fig.show()\n",
        "pd.DataFrame({'min_value': quantative_rows.min(axis = 0), 'max_value' :quantative_rows.max(axis = 0)})"
      ],
      "metadata": {
        "execution": {
          "iopub.status.busy": "2022-05-30T23:39:24.286517Z",
          "iopub.execute_input": "2022-05-30T23:39:24.28712Z",
          "iopub.status.idle": "2022-05-30T23:39:25.062881Z",
          "shell.execute_reply.started": "2022-05-30T23:39:24.287077Z",
          "shell.execute_reply": "2022-05-30T23:39:25.061648Z"
        },
        "trusted": true,
        "colab": {
          "base_uri": "https://localhost:8080/",
          "height": 378
        },
        "id": "8Eig6Uk5YU2u",
        "outputId": "451a63ca-9095-431f-cd64-b989acf4815b"
      },
      "execution_count": 25,
      "outputs": [
        {
          "output_type": "execute_result",
          "data": {
            "text/plain": [
              "              min_value max_value\n",
              "price              0.85    6735.0\n",
              "freight_value       0.0    409.68\n",
              "Year               2016      2020"
            ],
            "text/html": [
              "\n",
              "  <div id=\"df-cb7c871b-a15d-4788-96a6-da7489cf1138\">\n",
              "    <div class=\"colab-df-container\">\n",
              "      <div>\n",
              "<style scoped>\n",
              "    .dataframe tbody tr th:only-of-type {\n",
              "        vertical-align: middle;\n",
              "    }\n",
              "\n",
              "    .dataframe tbody tr th {\n",
              "        vertical-align: top;\n",
              "    }\n",
              "\n",
              "    .dataframe thead th {\n",
              "        text-align: right;\n",
              "    }\n",
              "</style>\n",
              "<table border=\"1\" class=\"dataframe\">\n",
              "  <thead>\n",
              "    <tr style=\"text-align: right;\">\n",
              "      <th></th>\n",
              "      <th>min_value</th>\n",
              "      <th>max_value</th>\n",
              "    </tr>\n",
              "  </thead>\n",
              "  <tbody>\n",
              "    <tr>\n",
              "      <th>price</th>\n",
              "      <td>0.85</td>\n",
              "      <td>6735.0</td>\n",
              "    </tr>\n",
              "    <tr>\n",
              "      <th>freight_value</th>\n",
              "      <td>0.0</td>\n",
              "      <td>409.68</td>\n",
              "    </tr>\n",
              "    <tr>\n",
              "      <th>Year</th>\n",
              "      <td>2016</td>\n",
              "      <td>2020</td>\n",
              "    </tr>\n",
              "  </tbody>\n",
              "</table>\n",
              "</div>\n",
              "      <button class=\"colab-df-convert\" onclick=\"convertToInteractive('df-cb7c871b-a15d-4788-96a6-da7489cf1138')\"\n",
              "              title=\"Convert this dataframe to an interactive table.\"\n",
              "              style=\"display:none;\">\n",
              "        \n",
              "  <svg xmlns=\"http://www.w3.org/2000/svg\" height=\"24px\"viewBox=\"0 0 24 24\"\n",
              "       width=\"24px\">\n",
              "    <path d=\"M0 0h24v24H0V0z\" fill=\"none\"/>\n",
              "    <path d=\"M18.56 5.44l.94 2.06.94-2.06 2.06-.94-2.06-.94-.94-2.06-.94 2.06-2.06.94zm-11 1L8.5 8.5l.94-2.06 2.06-.94-2.06-.94L8.5 2.5l-.94 2.06-2.06.94zm10 10l.94 2.06.94-2.06 2.06-.94-2.06-.94-.94-2.06-.94 2.06-2.06.94z\"/><path d=\"M17.41 7.96l-1.37-1.37c-.4-.4-.92-.59-1.43-.59-.52 0-1.04.2-1.43.59L10.3 9.45l-7.72 7.72c-.78.78-.78 2.05 0 2.83L4 21.41c.39.39.9.59 1.41.59.51 0 1.02-.2 1.41-.59l7.78-7.78 2.81-2.81c.8-.78.8-2.07 0-2.86zM5.41 20L4 18.59l7.72-7.72 1.47 1.35L5.41 20z\"/>\n",
              "  </svg>\n",
              "      </button>\n",
              "      \n",
              "  <style>\n",
              "    .colab-df-container {\n",
              "      display:flex;\n",
              "      flex-wrap:wrap;\n",
              "      gap: 12px;\n",
              "    }\n",
              "\n",
              "    .colab-df-convert {\n",
              "      background-color: #E8F0FE;\n",
              "      border: none;\n",
              "      border-radius: 50%;\n",
              "      cursor: pointer;\n",
              "      display: none;\n",
              "      fill: #1967D2;\n",
              "      height: 32px;\n",
              "      padding: 0 0 0 0;\n",
              "      width: 32px;\n",
              "    }\n",
              "\n",
              "    .colab-df-convert:hover {\n",
              "      background-color: #E2EBFA;\n",
              "      box-shadow: 0px 1px 2px rgba(60, 64, 67, 0.3), 0px 1px 3px 1px rgba(60, 64, 67, 0.15);\n",
              "      fill: #174EA6;\n",
              "    }\n",
              "\n",
              "    [theme=dark] .colab-df-convert {\n",
              "      background-color: #3B4455;\n",
              "      fill: #D2E3FC;\n",
              "    }\n",
              "\n",
              "    [theme=dark] .colab-df-convert:hover {\n",
              "      background-color: #434B5C;\n",
              "      box-shadow: 0px 1px 3px 1px rgba(0, 0, 0, 0.15);\n",
              "      filter: drop-shadow(0px 1px 2px rgba(0, 0, 0, 0.3));\n",
              "      fill: #FFFFFF;\n",
              "    }\n",
              "  </style>\n",
              "\n",
              "      <script>\n",
              "        const buttonEl =\n",
              "          document.querySelector('#df-cb7c871b-a15d-4788-96a6-da7489cf1138 button.colab-df-convert');\n",
              "        buttonEl.style.display =\n",
              "          google.colab.kernel.accessAllowed ? 'block' : 'none';\n",
              "\n",
              "        async function convertToInteractive(key) {\n",
              "          const element = document.querySelector('#df-cb7c871b-a15d-4788-96a6-da7489cf1138');\n",
              "          const dataTable =\n",
              "            await google.colab.kernel.invokeFunction('convertToInteractive',\n",
              "                                                     [key], {});\n",
              "          if (!dataTable) return;\n",
              "\n",
              "          const docLinkHtml = 'Like what you see? Visit the ' +\n",
              "            '<a target=\"_blank\" href=https://colab.research.google.com/notebooks/data_table.ipynb>data table notebook</a>'\n",
              "            + ' to learn more about interactive tables.';\n",
              "          element.innerHTML = '';\n",
              "          dataTable['output_type'] = 'display_data';\n",
              "          await google.colab.output.renderOutput(dataTable, element);\n",
              "          const docLink = document.createElement('div');\n",
              "          docLink.innerHTML = docLinkHtml;\n",
              "          element.appendChild(docLink);\n",
              "        }\n",
              "      </script>\n",
              "    </div>\n",
              "  </div>\n",
              "  "
            ]
          },
          "metadata": {},
          "execution_count": 25
        },
        {
          "output_type": "display_data",
          "data": {
            "text/plain": [
              "<Figure size 1152x288 with 2 Axes>"
            ],
            "image/png": "[encoded data removed]"
          },
          "metadata": {
            "needs_background": "light"
          }
        }
      ]
    },
    {
      "cell_type": "markdown",
      "source": [
        "Above, we have plotted histograms for the `price` and `freight_value` columns. While the charts for both columns have a rightward skew with many outliers, the data tends to show what we would expect, with most orders being less than 500 dollars and most shipping costs being below 50 dollars.\n",
        "We have also displayed both columns’ minimum and maximum values, and there are no inexplicable values.\n"
      ],
      "metadata": {
        "id": "FyJOXEA5YU2v"
      }
    },
    {
      "cell_type": "markdown",
      "source": [
        "## Preparing the orders dataset"
      ],
      "metadata": {
        "id": "VVxUGb1IYU2v"
      }
    },
    {
      "cell_type": "code",
      "source": [
        "# Lets view the Null values in this dataset\n",
        "orders.isna().sum()"
      ],
      "metadata": {
        "execution": {
          "iopub.status.busy": "2022-05-30T23:48:07.658815Z",
          "iopub.execute_input": "2022-05-30T23:48:07.661055Z",
          "iopub.status.idle": "2022-05-30T23:48:07.765848Z",
          "shell.execute_reply.started": "2022-05-30T23:48:07.66099Z",
          "shell.execute_reply": "2022-05-30T23:48:07.764666Z"
        },
        "trusted": true,
        "colab": {
          "base_uri": "https://localhost:8080/"
        },
        "id": "cIbowTFHYU2v",
        "outputId": "c965a4dc-a524-456c-9820-e193c9c6e45f"
      },
      "execution_count": 26,
      "outputs": [
        {
          "output_type": "execute_result",
          "data": {
            "text/plain": [
              "order_id                            0\n",
              "customer_id                         0\n",
              "order_status                        0\n",
              "order_purchase_timestamp            0\n",
              "order_approved_at                 160\n",
              "order_delivered_carrier_date     1783\n",
              "order_delivered_customer_date    2965\n",
              "order_estimated_delivery_date       0\n",
              "dtype: int64"
            ]
          },
          "metadata": {},
          "execution_count": 26
        }
      ]
    },
    {
      "cell_type": "markdown",
      "source": [
        "This dataset seems to have a large number of null values. Lets try and work out why this is."
      ],
      "metadata": {
        "id": "3_a96LXdYU2w"
      }
    },
    {
      "cell_type": "code",
      "source": [
        "# Viewing the null values in the order_delivered_customer_date column\n",
        "\n",
        "orders[orders['order_delivered_customer_date'].isna()]['order_status'].value_counts()"
      ],
      "metadata": {
        "execution": {
          "iopub.status.busy": "2022-05-30T23:53:21.395817Z",
          "iopub.execute_input": "2022-05-30T23:53:21.396256Z",
          "iopub.status.idle": "2022-05-30T23:53:21.413818Z",
          "shell.execute_reply.started": "2022-05-30T23:53:21.396222Z",
          "shell.execute_reply": "2022-05-30T23:53:21.412737Z"
        },
        "trusted": true,
        "colab": {
          "base_uri": "https://localhost:8080/"
        },
        "id": "BnyqN2XkYU2w",
        "outputId": "b6e01585-1bc8-41d1-9723-1b7adcef3801"
      },
      "execution_count": 27,
      "outputs": [
        {
          "output_type": "execute_result",
          "data": {
            "text/plain": [
              "shipped        1107\n",
              "canceled        619\n",
              "unavailable     609\n",
              "invoiced        314\n",
              "processing      301\n",
              "delivered         8\n",
              "created           5\n",
              "approved          2\n",
              "Name: order_status, dtype: int64"
            ]
          },
          "metadata": {},
          "execution_count": 27
        }
      ]
    },
    {
      "cell_type": "markdown",
      "source": [
        "From further inspection, we can see the null values in this dataset fall almost entirely on orders which have not yet been delivered. As you can't provide information on an event that is yet to occur, some of the values have been left blank. We now know that these nulls aren't due to any error, so we can leave them. \n",
        "\n",
        "There is, however, no explanation for the null values where the `order_status` is delivered, so we will remove those rows.\n"
      ],
      "metadata": {
        "id": "jSu4elgWYU2w"
      }
    },
    {
      "cell_type": "code",
      "source": [
        "drop_index = orders[(orders['order_status'] == 'delivered') & (orders.isnull().any(axis = 1))].index\n",
        "orders = orders.drop(drop_index).reindex()"
      ],
      "metadata": {
        "id": "QOtpjk2vYU2x"
      },
      "execution_count": 28,
      "outputs": []
    },
    {
      "cell_type": "markdown",
      "source": [
        "## Preparing the order_payments dataset"
      ],
      "metadata": {
        "id": "PxmdE38JYU2y"
      }
    },
    {
      "cell_type": "code",
      "source": [
        "# Lets view the Null values in this dataset\n",
        "order_payments.isna().sum()"
      ],
      "metadata": {
        "execution": {
          "iopub.status.busy": "2022-05-31T17:11:00.934216Z",
          "iopub.execute_input": "2022-05-31T17:11:00.934831Z",
          "iopub.status.idle": "2022-05-31T17:11:00.958915Z",
          "shell.execute_reply.started": "2022-05-31T17:11:00.934793Z",
          "shell.execute_reply": "2022-05-31T17:11:00.957956Z"
        },
        "trusted": true,
        "colab": {
          "base_uri": "https://localhost:8080/"
        },
        "id": "Sh9so8DoYU2z",
        "outputId": "08637ff1-1a39-4322-a4b4-02d5144732b4"
      },
      "execution_count": 29,
      "outputs": [
        {
          "output_type": "execute_result",
          "data": {
            "text/plain": [
              "order_id                0\n",
              "payment_sequential      0\n",
              "payment_type            0\n",
              "payment_installments    0\n",
              "payment_value           0\n",
              "dtype: int64"
            ]
          },
          "metadata": {},
          "execution_count": 29
        }
      ]
    },
    {
      "cell_type": "markdown",
      "source": [
        "The are no null values so lets move onto checking for any outliars"
      ],
      "metadata": {
        "id": "WNiW1tDeYU2z"
      }
    },
    {
      "cell_type": "code",
      "source": [
        "quantative_rows = order_payments[['payment_sequential', 'payment_installments', 'payment_value']]\n",
        "quantative_rows.plot(subplots=True, layout=(4,4), kind='box', figsize=(20,20), patch_artist = True)\n",
        "plt.grid()\n",
        "plt.subplots_adjust(wspace=0.5)\n",
        "plt.show();\n",
        "\n",
        "pd.DataFrame({'min_value': quantative_rows.min(axis = 0), 'max_value' :quantative_rows.max(axis = 0),\n",
        "              'median_value' :quantative_rows.median(axis = 0), 'mean_value': quantative_rows.mean(axis = 0)})"
      ],
      "metadata": {
        "execution": {
          "iopub.status.busy": "2022-05-31T17:15:31.011626Z",
          "iopub.execute_input": "2022-05-31T17:15:31.012036Z",
          "iopub.status.idle": "2022-05-31T17:15:31.833873Z",
          "shell.execute_reply.started": "2022-05-31T17:15:31.012Z",
          "shell.execute_reply": "2022-05-31T17:15:31.832991Z"
        },
        "trusted": true,
        "colab": {
          "base_uri": "https://localhost:8080/",
          "height": 413
        },
        "id": "yOHzqOCnYU20",
        "outputId": "37fee185-b485-4f68-f2b2-5bfa5b2f4cac"
      },
      "execution_count": 30,
      "outputs": [
        {
          "output_type": "display_data",
          "data": {
            "text/plain": [
              "<Figure size 1440x1440 with 16 Axes>"
            ],
            "image/png": "[encoded data removed]"
          },
          "metadata": {
            "needs_background": "light"
          }
        },
        {
          "output_type": "execute_result",
          "data": {
            "text/plain": [
              "                      min_value  max_value  median_value  mean_value\n",
              "payment_sequential          1.0      29.00           1.0    1.092679\n",
              "payment_installments        0.0      24.00           1.0    2.853349\n",
              "payment_value               0.0   13664.08         100.0  154.100380"
            ],
            "text/html": [
              "\n",
              "  <div id=\"df-c2510a83-4860-42b6-8fcf-fe46251b32a0\">\n",
              "    <div class=\"colab-df-container\">\n",
              "      <div>\n",
              "<style scoped>\n",
              "    .dataframe tbody tr th:only-of-type {\n",
              "        vertical-align: middle;\n",
              "    }\n",
              "\n",
              "    .dataframe tbody tr th {\n",
              "        vertical-align: top;\n",
              "    }\n",
              "\n",
              "    .dataframe thead th {\n",
              "        text-align: right;\n",
              "    }\n",
              "</style>\n",
              "<table border=\"1\" class=\"dataframe\">\n",
              "  <thead>\n",
              "    <tr style=\"text-align: right;\">\n",
              "      <th></th>\n",
              "      <th>min_value</th>\n",
              "      <th>max_value</th>\n",
              "      <th>median_value</th>\n",
              "      <th>mean_value</th>\n",
              "    </tr>\n",
              "  </thead>\n",
              "  <tbody>\n",
              "    <tr>\n",
              "      <th>payment_sequential</th>\n",
              "      <td>1.0</td>\n",
              "      <td>29.00</td>\n",
              "      <td>1.0</td>\n",
              "      <td>1.092679</td>\n",
              "    </tr>\n",
              "    <tr>\n",
              "      <th>payment_installments</th>\n",
              "      <td>0.0</td>\n",
              "      <td>24.00</td>\n",
              "      <td>1.0</td>\n",
              "      <td>2.853349</td>\n",
              "    </tr>\n",
              "    <tr>\n",
              "      <th>payment_value</th>\n",
              "      <td>0.0</td>\n",
              "      <td>13664.08</td>\n",
              "      <td>100.0</td>\n",
              "      <td>154.100380</td>\n",
              "    </tr>\n",
              "  </tbody>\n",
              "</table>\n",
              "</div>\n",
              "      <button class=\"colab-df-convert\" onclick=\"convertToInteractive('df-c2510a83-4860-42b6-8fcf-fe46251b32a0')\"\n",
              "              title=\"Convert this dataframe to an interactive table.\"\n",
              "              style=\"display:none;\">\n",
              "        \n",
              "  <svg xmlns=\"http://www.w3.org/2000/svg\" height=\"24px\"viewBox=\"0 0 24 24\"\n",
              "       width=\"24px\">\n",
              "    <path d=\"M0 0h24v24H0V0z\" fill=\"none\"/>\n",
              "    <path d=\"M18.56 5.44l.94 2.06.94-2.06 2.06-.94-2.06-.94-.94-2.06-.94 2.06-2.06.94zm-11 1L8.5 8.5l.94-2.06 2.06-.94-2.06-.94L8.5 2.5l-.94 2.06-2.06.94zm10 10l.94 2.06.94-2.06 2.06-.94-2.06-.94-.94-2.06-.94 2.06-2.06.94z\"/><path d=\"M17.41 7.96l-1.37-1.37c-.4-.4-.92-.59-1.43-.59-.52 0-1.04.2-1.43.59L10.3 9.45l-7.72 7.72c-.78.78-.78 2.05 0 2.83L4 21.41c.39.39.9.59 1.41.59.51 0 1.02-.2 1.41-.59l7.78-7.78 2.81-2.81c.8-.78.8-2.07 0-2.86zM5.41 20L4 18.59l7.72-7.72 1.47 1.35L5.41 20z\"/>\n",
              "  </svg>\n",
              "      </button>\n",
              "      \n",
              "  <style>\n",
              "    .colab-df-container {\n",
              "      display:flex;\n",
              "      flex-wrap:wrap;\n",
              "      gap: 12px;\n",
              "    }\n",
              "\n",
              "    .colab-df-convert {\n",
              "      background-color: #E8F0FE;\n",
              "      border: none;\n",
              "      border-radius: 50%;\n",
              "      cursor: pointer;\n",
              "      display: none;\n",
              "      fill: #1967D2;\n",
              "      height: 32px;\n",
              "      padding: 0 0 0 0;\n",
              "      width: 32px;\n",
              "    }\n",
              "\n",
              "    .colab-df-convert:hover {\n",
              "      background-color: #E2EBFA;\n",
              "      box-shadow: 0px 1px 2px rgba(60, 64, 67, 0.3), 0px 1px 3px 1px rgba(60, 64, 67, 0.15);\n",
              "      fill: #174EA6;\n",
              "    }\n",
              "\n",
              "    [theme=dark] .colab-df-convert {\n",
              "      background-color: #3B4455;\n",
              "      fill: #D2E3FC;\n",
              "    }\n",
              "\n",
              "    [theme=dark] .colab-df-convert:hover {\n",
              "      background-color: #434B5C;\n",
              "      box-shadow: 0px 1px 3px 1px rgba(0, 0, 0, 0.15);\n",
              "      filter: drop-shadow(0px 1px 2px rgba(0, 0, 0, 0.3));\n",
              "      fill: #FFFFFF;\n",
              "    }\n",
              "  </style>\n",
              "\n",
              "      <script>\n",
              "        const buttonEl =\n",
              "          document.querySelector('#df-c2510a83-4860-42b6-8fcf-fe46251b32a0 button.colab-df-convert');\n",
              "        buttonEl.style.display =\n",
              "          google.colab.kernel.accessAllowed ? 'block' : 'none';\n",
              "\n",
              "        async function convertToInteractive(key) {\n",
              "          const element = document.querySelector('#df-c2510a83-4860-42b6-8fcf-fe46251b32a0');\n",
              "          const dataTable =\n",
              "            await google.colab.kernel.invokeFunction('convertToInteractive',\n",
              "                                                     [key], {});\n",
              "          if (!dataTable) return;\n",
              "\n",
              "          const docLinkHtml = 'Like what you see? Visit the ' +\n",
              "            '<a target=\"_blank\" href=https://colab.research.google.com/notebooks/data_table.ipynb>data table notebook</a>'\n",
              "            + ' to learn more about interactive tables.';\n",
              "          element.innerHTML = '';\n",
              "          dataTable['output_type'] = 'display_data';\n",
              "          await google.colab.output.renderOutput(dataTable, element);\n",
              "          const docLink = document.createElement('div');\n",
              "          docLink.innerHTML = docLinkHtml;\n",
              "          element.appendChild(docLink);\n",
              "        }\n",
              "      </script>\n",
              "    </div>\n",
              "  </div>\n",
              "  "
            ]
          },
          "metadata": {},
          "execution_count": 30
        }
      ]
    },
    {
      "cell_type": "markdown",
      "source": [
        "While our boxplots show many outliers for every column, given the context there shouldn't be any cause for concern.\n",
        "\n",
        "What should be looked at however is the `payment_value` and `payment_installments` columns having  minimum values of 0."
      ],
      "metadata": {
        "id": "ocz7uXToYU20"
      }
    },
    {
      "cell_type": "code",
      "source": [
        "# Isolate rows for which either payment_sequential or payment_value is 0\n",
        "order_payments[(order_payments['payment_value'] == 0) | (order_payments['payment_installments'] == 0)]"
      ],
      "metadata": {
        "execution": {
          "iopub.status.busy": "2022-05-31T17:21:10.103461Z",
          "iopub.execute_input": "2022-05-31T17:21:10.103821Z",
          "iopub.status.idle": "2022-05-31T17:21:10.118093Z",
          "shell.execute_reply.started": "2022-05-31T17:21:10.103792Z",
          "shell.execute_reply": "2022-05-31T17:21:10.117227Z"
        },
        "trusted": true,
        "colab": {
          "base_uri": "https://localhost:8080/",
          "height": 458
        },
        "id": "7KH0ORk2YU20",
        "outputId": "9a9ac839-a217-4865-e0ff-d711d31b225c"
      },
      "execution_count": 31,
      "outputs": [
        {
          "output_type": "execute_result",
          "data": {
            "text/plain": [
              "                                order_id  payment_sequential payment_type  \\\n",
              "19922   8bcbe01d44d147f901cd3192671144db                   4      voucher   \n",
              "36822   fa65dad1b0e818e3ccc5cb0e39231352                  14      voucher   \n",
              "43744   6ccb433e00daae1283ccc956189c82ae                   4      voucher   \n",
              "46982   744bade1fcf9ff3f31d860ace076d422                   2  credit_card   \n",
              "51280   4637ca194b6387e2d538dc89b124b0ee                   1  not_defined   \n",
              "57411   00b1cb0320190ca0daa2c88b35206009                   1  not_defined   \n",
              "62674   45ed6e85398a87c253db47c2d9f48216                   3      voucher   \n",
              "77885   fa65dad1b0e818e3ccc5cb0e39231352                  13      voucher   \n",
              "79014   1a57108394169c0b47d8f876acc9ba2d                   2  credit_card   \n",
              "94427   c8c528189310eaa44a745b8d9d26908b                   1  not_defined   \n",
              "100766  b23878b3e8eb4d25a158f57d96331b18                   4      voucher   \n",
              "\n",
              "        payment_installments  payment_value  \n",
              "19922                      1           0.00  \n",
              "36822                      1           0.00  \n",
              "43744                      1           0.00  \n",
              "46982                      0          58.69  \n",
              "51280                      1           0.00  \n",
              "57411                      1           0.00  \n",
              "62674                      1           0.00  \n",
              "77885                      1           0.00  \n",
              "79014                      0         129.94  \n",
              "94427                      1           0.00  \n",
              "100766                     1           0.00  "
            ],
            "text/html": [
              "\n",
              "  <div id=\"df-b1e626eb-f869-4906-ad29-e8f0f4951a0c\">\n",
              "    <div class=\"colab-df-container\">\n",
              "      <div>\n",
              "<style scoped>\n",
              "    .dataframe tbody tr th:only-of-type {\n",
              "        vertical-align: middle;\n",
              "    }\n",
              "\n",
              "    .dataframe tbody tr th {\n",
              "        vertical-align: top;\n",
              "    }\n",
              "\n",
              "    .dataframe thead th {\n",
              "        text-align: right;\n",
              "    }\n",
              "</style>\n",
              "<table border=\"1\" class=\"dataframe\">\n",
              "  <thead>\n",
              "    <tr style=\"text-align: right;\">\n",
              "      <th></th>\n",
              "      <th>order_id</th>\n",
              "      <th>payment_sequential</th>\n",
              "      <th>payment_type</th>\n",
              "      <th>payment_installments</th>\n",
              "      <th>payment_value</th>\n",
              "    </tr>\n",
              "  </thead>\n",
              "  <tbody>\n",
              "    <tr>\n",
              "      <th>19922</th>\n",
              "      <td>8bcbe01d44d147f901cd3192671144db</td>\n",
              "      <td>4</td>\n",
              "      <td>voucher</td>\n",
              "      <td>1</td>\n",
              "      <td>0.00</td>\n",
              "    </tr>\n",
              "    <tr>\n",
              "      <th>36822</th>\n",
              "      <td>fa65dad1b0e818e3ccc5cb0e39231352</td>\n",
              "      <td>14</td>\n",
              "      <td>voucher</td>\n",
              "      <td>1</td>\n",
              "      <td>0.00</td>\n",
              "    </tr>\n",
              "    <tr>\n",
              "      <th>43744</th>\n",
              "      <td>6ccb433e00daae1283ccc956189c82ae</td>\n",
              "      <td>4</td>\n",
              "      <td>voucher</td>\n",
              "      <td>1</td>\n",
              "      <td>0.00</td>\n",
              "    </tr>\n",
              "    <tr>\n",
              "      <th>46982</th>\n",
              "      <td>744bade1fcf9ff3f31d860ace076d422</td>\n",
              "      <td>2</td>\n",
              "      <td>credit_card</td>\n",
              "      <td>0</td>\n",
              "      <td>58.69</td>\n",
              "    </tr>\n",
              "    <tr>\n",
              "      <th>51280</th>\n",
              "      <td>4637ca194b6387e2d538dc89b124b0ee</td>\n",
              "      <td>1</td>\n",
              "      <td>not_defined</td>\n",
              "      <td>1</td>\n",
              "      <td>0.00</td>\n",
              "    </tr>\n",
              "    <tr>\n",
              "      <th>57411</th>\n",
              "      <td>00b1cb0320190ca0daa2c88b35206009</td>\n",
              "      <td>1</td>\n",
              "      <td>not_defined</td>\n",
              "      <td>1</td>\n",
              "      <td>0.00</td>\n",
              "    </tr>\n",
              "    <tr>\n",
              "      <th>62674</th>\n",
              "      <td>45ed6e85398a87c253db47c2d9f48216</td>\n",
              "      <td>3</td>\n",
              "      <td>voucher</td>\n",
              "      <td>1</td>\n",
              "      <td>0.00</td>\n",
              "    </tr>\n",
              "    <tr>\n",
              "      <th>77885</th>\n",
              "      <td>fa65dad1b0e818e3ccc5cb0e39231352</td>\n",
              "      <td>13</td>\n",
              "      <td>voucher</td>\n",
              "      <td>1</td>\n",
              "      <td>0.00</td>\n",
              "    </tr>\n",
              "    <tr>\n",
              "      <th>79014</th>\n",
              "      <td>1a57108394169c0b47d8f876acc9ba2d</td>\n",
              "      <td>2</td>\n",
              "      <td>credit_card</td>\n",
              "      <td>0</td>\n",
              "      <td>129.94</td>\n",
              "    </tr>\n",
              "    <tr>\n",
              "      <th>94427</th>\n",
              "      <td>c8c528189310eaa44a745b8d9d26908b</td>\n",
              "      <td>1</td>\n",
              "      <td>not_defined</td>\n",
              "      <td>1</td>\n",
              "      <td>0.00</td>\n",
              "    </tr>\n",
              "    <tr>\n",
              "      <th>100766</th>\n",
              "      <td>b23878b3e8eb4d25a158f57d96331b18</td>\n",
              "      <td>4</td>\n",
              "      <td>voucher</td>\n",
              "      <td>1</td>\n",
              "      <td>0.00</td>\n",
              "    </tr>\n",
              "  </tbody>\n",
              "</table>\n",
              "</div>\n",
              "      <button class=\"colab-df-convert\" onclick=\"convertToInteractive('df-b1e626eb-f869-4906-ad29-e8f0f4951a0c')\"\n",
              "              title=\"Convert this dataframe to an interactive table.\"\n",
              "              style=\"display:none;\">\n",
              "        \n",
              "  <svg xmlns=\"http://www.w3.org/2000/svg\" height=\"24px\"viewBox=\"0 0 24 24\"\n",
              "       width=\"24px\">\n",
              "    <path d=\"M0 0h24v24H0V0z\" fill=\"none\"/>\n",
              "    <path d=\"M18.56 5.44l.94 2.06.94-2.06 2.06-.94-2.06-.94-.94-2.06-.94 2.06-2.06.94zm-11 1L8.5 8.5l.94-2.06 2.06-.94-2.06-.94L8.5 2.5l-.94 2.06-2.06.94zm10 10l.94 2.06.94-2.06 2.06-.94-2.06-.94-.94-2.06-.94 2.06-2.06.94z\"/><path d=\"M17.41 7.96l-1.37-1.37c-.4-.4-.92-.59-1.43-.59-.52 0-1.04.2-1.43.59L10.3 9.45l-7.72 7.72c-.78.78-.78 2.05 0 2.83L4 21.41c.39.39.9.59 1.41.59.51 0 1.02-.2 1.41-.59l7.78-7.78 2.81-2.81c.8-.78.8-2.07 0-2.86zM5.41 20L4 18.59l7.72-7.72 1.47 1.35L5.41 20z\"/>\n",
              "  </svg>\n",
              "      </button>\n",
              "      \n",
              "  <style>\n",
              "    .colab-df-container {\n",
              "      display:flex;\n",
              "      flex-wrap:wrap;\n",
              "      gap: 12px;\n",
              "    }\n",
              "\n",
              "    .colab-df-convert {\n",
              "      background-color: #E8F0FE;\n",
              "      border: none;\n",
              "      border-radius: 50%;\n",
              "      cursor: pointer;\n",
              "      display: none;\n",
              "      fill: #1967D2;\n",
              "      height: 32px;\n",
              "      padding: 0 0 0 0;\n",
              "      width: 32px;\n",
              "    }\n",
              "\n",
              "    .colab-df-convert:hover {\n",
              "      background-color: #E2EBFA;\n",
              "      box-shadow: 0px 1px 2px rgba(60, 64, 67, 0.3), 0px 1px 3px 1px rgba(60, 64, 67, 0.15);\n",
              "      fill: #174EA6;\n",
              "    }\n",
              "\n",
              "    [theme=dark] .colab-df-convert {\n",
              "      background-color: #3B4455;\n",
              "      fill: #D2E3FC;\n",
              "    }\n",
              "\n",
              "    [theme=dark] .colab-df-convert:hover {\n",
              "      background-color: #434B5C;\n",
              "      box-shadow: 0px 1px 3px 1px rgba(0, 0, 0, 0.15);\n",
              "      filter: drop-shadow(0px 1px 2px rgba(0, 0, 0, 0.3));\n",
              "      fill: #FFFFFF;\n",
              "    }\n",
              "  </style>\n",
              "\n",
              "      <script>\n",
              "        const buttonEl =\n",
              "          document.querySelector('#df-b1e626eb-f869-4906-ad29-e8f0f4951a0c button.colab-df-convert');\n",
              "        buttonEl.style.display =\n",
              "          google.colab.kernel.accessAllowed ? 'block' : 'none';\n",
              "\n",
              "        async function convertToInteractive(key) {\n",
              "          const element = document.querySelector('#df-b1e626eb-f869-4906-ad29-e8f0f4951a0c');\n",
              "          const dataTable =\n",
              "            await google.colab.kernel.invokeFunction('convertToInteractive',\n",
              "                                                     [key], {});\n",
              "          if (!dataTable) return;\n",
              "\n",
              "          const docLinkHtml = 'Like what you see? Visit the ' +\n",
              "            '<a target=\"_blank\" href=https://colab.research.google.com/notebooks/data_table.ipynb>data table notebook</a>'\n",
              "            + ' to learn more about interactive tables.';\n",
              "          element.innerHTML = '';\n",
              "          dataTable['output_type'] = 'display_data';\n",
              "          await google.colab.output.renderOutput(dataTable, element);\n",
              "          const docLink = document.createElement('div');\n",
              "          docLink.innerHTML = docLinkHtml;\n",
              "          element.appendChild(docLink);\n",
              "        }\n",
              "      </script>\n",
              "    </div>\n",
              "  </div>\n",
              "  "
            ]
          },
          "metadata": {},
          "execution_count": 31
        }
      ]
    },
    {
      "cell_type": "markdown",
      "source": [
        "From the cell above, we can see that for the rows in which the `payment_value` is 0, the `payment_type` is either a voucher or some unspecified payment_type, meaning that the customer not spending any money is viable. For that reason, we will leave these rows.\n",
        "\n",
        "There is no explanation, however, for the `payment_installments` being 0 so we will drop those rows."
      ],
      "metadata": {
        "id": "TWO3KR8jYU21"
      }
    },
    {
      "cell_type": "code",
      "source": [
        "order_payments = order_payments[order_payments['payment_installments'] != 0]"
      ],
      "metadata": {
        "execution": {
          "iopub.status.busy": "2022-05-31T17:27:38.547343Z",
          "iopub.execute_input": "2022-05-31T17:27:38.547729Z",
          "iopub.status.idle": "2022-05-31T17:27:38.559591Z",
          "shell.execute_reply.started": "2022-05-31T17:27:38.547699Z",
          "shell.execute_reply": "2022-05-31T17:27:38.558772Z"
        },
        "trusted": true,
        "id": "CTBQz35WYU21"
      },
      "execution_count": 32,
      "outputs": []
    },
    {
      "cell_type": "markdown",
      "source": [
        "## Preparing the reviews_dataset"
      ],
      "metadata": {
        "id": "-9JKImPHYU22"
      }
    },
    {
      "cell_type": "code",
      "source": [
        "# Lets view the Null values in this dataset\n",
        "reviews.isna().sum()"
      ],
      "metadata": {
        "execution": {
          "iopub.status.busy": "2022-05-31T17:32:23.872007Z",
          "iopub.execute_input": "2022-05-31T17:32:23.872402Z",
          "iopub.status.idle": "2022-05-31T17:32:23.90752Z",
          "shell.execute_reply.started": "2022-05-31T17:32:23.872372Z",
          "shell.execute_reply": "2022-05-31T17:32:23.906316Z"
        },
        "trusted": true,
        "colab": {
          "base_uri": "https://localhost:8080/"
        },
        "id": "N6JX6GLKYU22",
        "outputId": "513a6bfe-d333-479b-d527-1d8036f0cc2b"
      },
      "execution_count": 33,
      "outputs": [
        {
          "output_type": "execute_result",
          "data": {
            "text/plain": [
              "review_id                      0\n",
              "order_id                       0\n",
              "review_score                   0\n",
              "review_comment_title       87656\n",
              "review_comment_message     58247\n",
              "review_creation_date           0\n",
              "review_answer_timestamp        0\n",
              "dtype: int64"
            ]
          },
          "metadata": {},
          "execution_count": 33
        }
      ]
    },
    {
      "cell_type": "markdown",
      "source": [
        "The null values in this dataframe are only in the `review_comment_title` column and the `review_comment_message` section. It is plausible that leaving a message to go with your review is optional meaning that a lot of people would have just left this section blank. Because of this, we will leave these null values."
      ],
      "metadata": {
        "id": "2W_8pwVhYU22"
      }
    },
    {
      "cell_type": "code",
      "source": [
        "answer_year = reviews['review_answer_timestamp'].apply(lambda x: float(x.split('-')[0]))\n",
        "creation_year = reviews['review_creation_date'].apply(lambda x: float(x.split('-')[0]))\n",
        "\n",
        "quantative_rows = reviews.loc[:, ['review_score']]\n",
        "quantative_rows['answer_year'] = answer_year\n",
        "quantative_rows['creation_year'] = creation_year\n",
        "\n",
        "pd.DataFrame({'min' : quantative_rows.min(axis = 0), 'max': quantative_rows.max(axis = 0),\n",
        "             'mean': quantative_rows.mean(axis = 0), 'Median': quantative_rows.median(axis = 0)})"
      ],
      "metadata": {
        "execution": {
          "iopub.status.busy": "2022-05-31T17:46:19.715497Z",
          "iopub.execute_input": "2022-05-31T17:46:19.716153Z",
          "iopub.status.idle": "2022-05-31T17:46:19.851449Z",
          "shell.execute_reply.started": "2022-05-31T17:46:19.716119Z",
          "shell.execute_reply": "2022-05-31T17:46:19.850548Z"
        },
        "trusted": true,
        "colab": {
          "base_uri": "https://localhost:8080/",
          "height": 143
        },
        "id": "1fWgT-eiYU23",
        "outputId": "ac956318-78de-4628-892c-8a4c0a24ff5f"
      },
      "execution_count": 34,
      "outputs": [
        {
          "output_type": "execute_result",
          "data": {
            "text/plain": [
              "                  min     max         mean  Median\n",
              "review_score      1.0     5.0     4.086421     5.0\n",
              "answer_year    2016.0  2018.0  2017.569741  2018.0\n",
              "creation_year  2016.0  2018.0  2017.562757  2018.0"
            ],
            "text/html": [
              "\n",
              "  <div id=\"df-504a78c3-b3a3-4659-b819-5371b9133efe\">\n",
              "    <div class=\"colab-df-container\">\n",
              "      <div>\n",
              "<style scoped>\n",
              "    .dataframe tbody tr th:only-of-type {\n",
              "        vertical-align: middle;\n",
              "    }\n",
              "\n",
              "    .dataframe tbody tr th {\n",
              "        vertical-align: top;\n",
              "    }\n",
              "\n",
              "    .dataframe thead th {\n",
              "        text-align: right;\n",
              "    }\n",
              "</style>\n",
              "<table border=\"1\" class=\"dataframe\">\n",
              "  <thead>\n",
              "    <tr style=\"text-align: right;\">\n",
              "      <th></th>\n",
              "      <th>min</th>\n",
              "      <th>max</th>\n",
              "      <th>mean</th>\n",
              "      <th>Median</th>\n",
              "    </tr>\n",
              "  </thead>\n",
              "  <tbody>\n",
              "    <tr>\n",
              "      <th>review_score</th>\n",
              "      <td>1.0</td>\n",
              "      <td>5.0</td>\n",
              "      <td>4.086421</td>\n",
              "      <td>5.0</td>\n",
              "    </tr>\n",
              "    <tr>\n",
              "      <th>answer_year</th>\n",
              "      <td>2016.0</td>\n",
              "      <td>2018.0</td>\n",
              "      <td>2017.569741</td>\n",
              "      <td>2018.0</td>\n",
              "    </tr>\n",
              "    <tr>\n",
              "      <th>creation_year</th>\n",
              "      <td>2016.0</td>\n",
              "      <td>2018.0</td>\n",
              "      <td>2017.562757</td>\n",
              "      <td>2018.0</td>\n",
              "    </tr>\n",
              "  </tbody>\n",
              "</table>\n",
              "</div>\n",
              "      <button class=\"colab-df-convert\" onclick=\"convertToInteractive('df-504a78c3-b3a3-4659-b819-5371b9133efe')\"\n",
              "              title=\"Convert this dataframe to an interactive table.\"\n",
              "              style=\"display:none;\">\n",
              "        \n",
              "  <svg xmlns=\"http://www.w3.org/2000/svg\" height=\"24px\"viewBox=\"0 0 24 24\"\n",
              "       width=\"24px\">\n",
              "    <path d=\"M0 0h24v24H0V0z\" fill=\"none\"/>\n",
              "    <path d=\"M18.56 5.44l.94 2.06.94-2.06 2.06-.94-2.06-.94-.94-2.06-.94 2.06-2.06.94zm-11 1L8.5 8.5l.94-2.06 2.06-.94-2.06-.94L8.5 2.5l-.94 2.06-2.06.94zm10 10l.94 2.06.94-2.06 2.06-.94-2.06-.94-.94-2.06-.94 2.06-2.06.94z\"/><path d=\"M17.41 7.96l-1.37-1.37c-.4-.4-.92-.59-1.43-.59-.52 0-1.04.2-1.43.59L10.3 9.45l-7.72 7.72c-.78.78-.78 2.05 0 2.83L4 21.41c.39.39.9.59 1.41.59.51 0 1.02-.2 1.41-.59l7.78-7.78 2.81-2.81c.8-.78.8-2.07 0-2.86zM5.41 20L4 18.59l7.72-7.72 1.47 1.35L5.41 20z\"/>\n",
              "  </svg>\n",
              "      </button>\n",
              "      \n",
              "  <style>\n",
              "    .colab-df-container {\n",
              "      display:flex;\n",
              "      flex-wrap:wrap;\n",
              "      gap: 12px;\n",
              "    }\n",
              "\n",
              "    .colab-df-convert {\n",
              "      background-color: #E8F0FE;\n",
              "      border: none;\n",
              "      border-radius: 50%;\n",
              "      cursor: pointer;\n",
              "      display: none;\n",
              "      fill: #1967D2;\n",
              "      height: 32px;\n",
              "      padding: 0 0 0 0;\n",
              "      width: 32px;\n",
              "    }\n",
              "\n",
              "    .colab-df-convert:hover {\n",
              "      background-color: #E2EBFA;\n",
              "      box-shadow: 0px 1px 2px rgba(60, 64, 67, 0.3), 0px 1px 3px 1px rgba(60, 64, 67, 0.15);\n",
              "      fill: #174EA6;\n",
              "    }\n",
              "\n",
              "    [theme=dark] .colab-df-convert {\n",
              "      background-color: #3B4455;\n",
              "      fill: #D2E3FC;\n",
              "    }\n",
              "\n",
              "    [theme=dark] .colab-df-convert:hover {\n",
              "      background-color: #434B5C;\n",
              "      box-shadow: 0px 1px 3px 1px rgba(0, 0, 0, 0.15);\n",
              "      filter: drop-shadow(0px 1px 2px rgba(0, 0, 0, 0.3));\n",
              "      fill: #FFFFFF;\n",
              "    }\n",
              "  </style>\n",
              "\n",
              "      <script>\n",
              "        const buttonEl =\n",
              "          document.querySelector('#df-504a78c3-b3a3-4659-b819-5371b9133efe button.colab-df-convert');\n",
              "        buttonEl.style.display =\n",
              "          google.colab.kernel.accessAllowed ? 'block' : 'none';\n",
              "\n",
              "        async function convertToInteractive(key) {\n",
              "          const element = document.querySelector('#df-504a78c3-b3a3-4659-b819-5371b9133efe');\n",
              "          const dataTable =\n",
              "            await google.colab.kernel.invokeFunction('convertToInteractive',\n",
              "                                                     [key], {});\n",
              "          if (!dataTable) return;\n",
              "\n",
              "          const docLinkHtml = 'Like what you see? Visit the ' +\n",
              "            '<a target=\"_blank\" href=https://colab.research.google.com/notebooks/data_table.ipynb>data table notebook</a>'\n",
              "            + ' to learn more about interactive tables.';\n",
              "          element.innerHTML = '';\n",
              "          dataTable['output_type'] = 'display_data';\n",
              "          await google.colab.output.renderOutput(dataTable, element);\n",
              "          const docLink = document.createElement('div');\n",
              "          docLink.innerHTML = docLinkHtml;\n",
              "          element.appendChild(docLink);\n",
              "        }\n",
              "      </script>\n",
              "    </div>\n",
              "  </div>\n",
              "  "
            ]
          },
          "metadata": {},
          "execution_count": 34
        }
      ]
    },
    {
      "cell_type": "markdown",
      "source": [
        "## Merging the Datasets"
      ],
      "metadata": {
        "id": "qnwT97TyYU23"
      }
    },
    {
      "cell_type": "code",
      "source": [
        "olist = customers.merge(orders, on = 'customer_id', how = 'left')\n",
        "olist = olist.merge(order_payments, on = 'order_id', how = 'left')\n",
        "olist = olist.merge(order_items, on = 'order_id', how = 'left')\n",
        "olist = olist.merge(products, on = 'product_id', how = 'left')\n",
        "olist = olist.merge(sellers, on = 'seller_id', how = 'left')\n",
        "olist = olist.merge(reviews, on = 'order_id', how = 'left')"
      ],
      "metadata": {
        "execution": {
          "iopub.status.busy": "2022-06-04T18:47:09.599208Z",
          "iopub.execute_input": "2022-06-04T18:47:09.600128Z",
          "iopub.status.idle": "2022-06-04T18:47:10.839051Z",
          "shell.execute_reply.started": "2022-06-04T18:47:09.600074Z",
          "shell.execute_reply": "2022-06-04T18:47:10.837858Z"
        },
        "trusted": true,
        "id": "bgNayxUaYU24"
      },
      "execution_count": 35,
      "outputs": []
    },
    {
      "cell_type": "markdown",
      "source": [
        "## We have now successfully prepared the data"
      ],
      "metadata": {
        "id": "kFGOY1t3YU24"
      }
    }
  ]
}